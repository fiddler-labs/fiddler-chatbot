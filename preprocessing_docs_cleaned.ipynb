{
 "cells": [
  {
   "cell_type": "markdown",
   "id": "1a8359b3-5822-4ae4-8f4c-2790033cb519",
   "metadata": {},
   "source": [
    "## Follow these steps to reload the vector index, currently running in DataStax\n",
    "* Download files from readme - go to configurations - project management and export docs.  You will get a download of ALL versions of fiddler documentation - you only need 2x.x (latest).  Copy this into /documenation_data/2x.x\n",
    "* Make sure you copy in the ChangelongPosts (release notes) into the 2x.x directory you plan to process\n",
    "* Copy the latest [quickstart notebooks](https://github.com/fiddler-labs/fiddler-examples) from the 2x.x folder\n",
    "* Generate the markdown version of .ipynb files and add it to quickstart pages on with the script below\n",
    "* You will have to clean up hidden docs that are in 2x.x - this is done further down in this notebook\n",
    "* You will need to add the caveats from old 23.x docs into new ones\n",
    "* After this preprocessing is done, you will need to run \"query_cassandra.ipynb\" notebook which has a cell to TRUNCATE the \"fiddler_doc_snippets_openai\" table.  This needs to be done before reloading it.\n",
    "* Reloading the vector index table is done via the \"loader_cassandra_vector_index.ipynb\" notebook."
   ]
  },
  {
   "cell_type": "markdown",
   "id": "8e31ab6c-89d1-4191-b166-b930e40b95b0",
   "metadata": {
    "jp-MarkdownHeadingCollapsed": true
   },
   "source": [
    "### Imports"
   ]
  },
  {
   "cell_type": "code",
   "execution_count": 2,
   "id": "3ca32fdd-957d-41d5-9a1c-8cff797ac19e",
   "metadata": {},
   "outputs": [
    {
     "name": "stdout",
     "output_type": "stream",
     "text": [
      "\n",
      "\u001b[1m[\u001b[0m\u001b[34;49mnotice\u001b[0m\u001b[1;39;49m]\u001b[0m\u001b[39;49m A new release of pip is available: \u001b[0m\u001b[31;49m23.2.1\u001b[0m\u001b[39;49m -> \u001b[0m\u001b[32;49m23.3.2\u001b[0m\n",
      "\u001b[1m[\u001b[0m\u001b[34;49mnotice\u001b[0m\u001b[1;39;49m]\u001b[0m\u001b[39;49m To update, run: \u001b[0m\u001b[32;49mpip install --upgrade pip\u001b[0m\n"
     ]
    }
   ],
   "source": [
    "!pip -q install tiktoken"
   ]
  },
  {
   "cell_type": "code",
   "execution_count": 142,
   "id": "a221e7b5",
   "metadata": {},
   "outputs": [],
   "source": [
    "import os\n",
    "import pandas as pd\n",
    "import tiktoken\n",
    "import openai \n",
    "import re\n",
    "from scipy import spatial \n",
    "import ast\n",
    "import feedparser\n",
    "from bs4 import BeautifulSoup\n",
    "import requests"
   ]
  },
  {
   "cell_type": "markdown",
   "id": "7563f685-be29-4064-a416-78cea3659bcc",
   "metadata": {
    "jp-MarkdownHeadingCollapsed": true
   },
   "source": [
    "### Set State"
   ]
  },
  {
   "cell_type": "code",
   "execution_count": 143,
   "id": "c13e1f17-8e72-43f7-8d99-de0e8e3afaf5",
   "metadata": {},
   "outputs": [],
   "source": [
    "EMBEDDING_MODEL = \"text-embedding-ada-002\"  # OpenAI's best embeddings as of Apr 2023\n",
    "GPT_MODEL = \"gpt-3.5-turbo\"\n",
    "release_num = '24.1'"
   ]
  },
  {
   "cell_type": "code",
   "execution_count": 144,
   "id": "034ee26e-03bc-49eb-8c74-4da5339d2aba",
   "metadata": {},
   "outputs": [],
   "source": [
    "'''\n",
    "def num_tokens(text: str, model: str = GPT_MODEL) -> int:\n",
    "    \"\"\"Return the number of tokens in a string.\"\"\"\n",
    "    encoding = tiktoken.encoding_for_model(model)\n",
    "    return len(encoding.encode(text))\n",
    "\n",
    "# def generate_embeddings(chunked_doc, tiktoken_encoding = \"cl100k_base\", token_limit = 8000 )\n",
    "#     global EMBEDDING_MODEL = \"text-embedding-ada-002\"  \n",
    "#     encoding = tiktoken.get_encoding(tiktoken_encoding)\n",
    "#     embeddings=[]\n",
    "#     for i in range(len(chunked_doc)):\n",
    "#         fdl_doc_token_list = encoding.encode(chunked_doc[i])\n",
    "#         if(len(fdl_doc_token_list)<token_limit):\n",
    "#             response = openai.Embedding.create(model=EMBEDDING_MODEL, input=chunked_doc[i])\n",
    "#             embeddings.append(response[\"data\"][0][\"embedding\"])\n",
    "#     return embeddings\n",
    "\n",
    "def chunked_string(\n",
    "    string: str,\n",
    "    model: str = EMBEDDING_MODEL,\n",
    "    max_tokens: int = 2000,\n",
    ") -> str:\n",
    "    \"\"\"Truncate a string to a maximum number of tokens.\"\"\"\n",
    "    encoding = tiktoken.encoding_for_model(model)\n",
    "    encoded_string = encoding.encode(string)\n",
    "    chunked_string = [encoding.decode(encoded_string[i:i+max_tokens]) for i in range(0, len(encoded_string), max_tokens)]\n",
    "    return chunked_string\n",
    "'''    "
   ]
  },
  {
   "cell_type": "markdown",
   "id": "8a025d27-522a-4122-9676-9e0c9c313f7d",
   "metadata": {},
   "source": [
    "## Append Notebook markdowns to quick starts\n",
    "\n",
    "- Download [Quickstart guides](https://github.com/fiddler-labs/fiddler-examples) v24.x into *documentation_data/notebooks-ipynb* folder: \n",
    "- Running the NBConvert in the next step will update the md-notebooks folder with markdown version of all the quickstarts from the *notebooks-ipynb* directory "
   ]
  },
  {
   "cell_type": "code",
   "execution_count": 121,
   "id": "eb7352c6-7c88-4fa7-b8e3-e801e5b2a10e",
   "metadata": {
    "scrolled": true
   },
   "outputs": [
    {
     "name": "stdout",
     "output_type": "stream",
     "text": [
      "[NbConvertApp] Converting notebook documentation_data/notebooks-ipynb/Fiddler_Newsgroups_DataGeneration.ipynb to markdown\n",
      "[NbConvertApp] Writing 7140 bytes to documentation_data/md-notebooks/Fiddler_Newsgroups_DataGeneration.md\n",
      "[NbConvertApp] Converting notebook documentation_data/notebooks-ipynb/Fiddler_Quickstart_Add_Model_Artifact.ipynb to markdown\n",
      "[NbConvertApp] Writing 12355 bytes to documentation_data/md-notebooks/Fiddler_Quickstart_Add_Model_Artifact.md\n",
      "[NbConvertApp] Converting notebook documentation_data/notebooks-ipynb/Fiddler_Quickstart_IMDB_Onboarding.ipynb to markdown\n",
      "[NbConvertApp] Writing 13540 bytes to documentation_data/md-notebooks/Fiddler_Quickstart_IMDB_Onboarding.md\n",
      "[NbConvertApp] Converting notebook documentation_data/notebooks-ipynb/Fiddler_Quickstart_Image_Monitoring.ipynb to markdown\n",
      "[NbConvertApp] Writing 15927 bytes to documentation_data/md-notebooks/Fiddler_Quickstart_Image_Monitoring.md\n",
      "[NbConvertApp] Converting notebook documentation_data/notebooks-ipynb/Fiddler_Quickstart_Imbalanced_Data.ipynb to markdown\n",
      "[NbConvertApp] Writing 7257 bytes to documentation_data/md-notebooks/Fiddler_Quickstart_Imbalanced_Data.md\n",
      "[NbConvertApp] Converting notebook documentation_data/notebooks-ipynb/Fiddler_Quickstart_Intersectionally_Unfair.ipynb to markdown\n",
      "[NbConvertApp] Writing 9607 bytes to documentation_data/md-notebooks/Fiddler_Quickstart_Intersectionally_Unfair.md\n",
      "[NbConvertApp] Converting notebook documentation_data/notebooks-ipynb/Fiddler_Quickstart_NLP_Monitoring.ipynb to markdown\n",
      "[NbConvertApp] Writing 10823 bytes to documentation_data/md-notebooks/Fiddler_Quickstart_NLP_Monitoring.md\n",
      "[NbConvertApp] Converting notebook documentation_data/notebooks-ipynb/Fiddler_Quickstart_NLP_OpenAI_Monitoring.ipynb to markdown\n",
      "[NbConvertApp] Writing 296252 bytes to documentation_data/md-notebooks/Fiddler_Quickstart_NLP_OpenAI_Monitoring.md\n",
      "[NbConvertApp] Converting notebook documentation_data/notebooks-ipynb/Fiddler_Quickstart_NLP_multiclass.ipynb to markdown\n",
      "[NbConvertApp] Writing 10686 bytes to documentation_data/md-notebooks/Fiddler_Quickstart_NLP_multiclass.md\n",
      "[NbConvertApp] Converting notebook documentation_data/notebooks-ipynb/Fiddler_Quickstart_Ranking_Model.ipynb to markdown\n",
      "[NbConvertApp] Writing 10716 bytes to documentation_data/md-notebooks/Fiddler_Quickstart_Ranking_Model.md\n",
      "[NbConvertApp] Converting notebook documentation_data/notebooks-ipynb/Fiddler_Quickstart_Simple_Monitoring.ipynb to markdown\n",
      "[NbConvertApp] Writing 13647 bytes to documentation_data/md-notebooks/Fiddler_Quickstart_Simple_Monitoring.md\n",
      "[NbConvertApp] Converting notebook documentation_data/notebooks-ipynb/Fiddler_Quickstart_Surrogate_XAI.ipynb to markdown\n",
      "[NbConvertApp] Writing 9770 bytes to documentation_data/md-notebooks/Fiddler_Quickstart_Surrogate_XAI.md\n"
     ]
    }
   ],
   "source": [
    "!jupyter nbconvert --output-dir='documentation_data/md-notebooks' documentation_data/notebooks-ipynb/*.ipynb --to markdown"
   ]
  },
  {
   "cell_type": "markdown",
   "id": "4795caef-4377-4fde-9369-b0b35c12f4ff",
   "metadata": {},
   "source": [
    "The cell will take the markdown version of the notebooks and append it to the quickstart pages in the documentation directory "
   ]
  },
  {
   "cell_type": "code",
   "execution_count": 147,
   "id": "6b55511b-4148-44ba-a654-585aec1dee8b",
   "metadata": {
    "scrolled": true
   },
   "outputs": [
    {
     "name": "stderr",
     "output_type": "stream",
     "text": [
      "IOPub data rate exceeded.\n",
      "The Jupyter server will temporarily stop sending output\n",
      "to the client in order to avoid crashing it.\n",
      "To change this limit, set the config variable\n",
      "`--ServerApp.iopub_data_rate_limit`.\n",
      "\n",
      "Current values:\n",
      "ServerApp.iopub_data_rate_limit=1000000.0 (bytes/sec)\n",
      "ServerApp.rate_limit_window=3.0 (secs)\n",
      "\n"
     ]
    }
   ],
   "source": [
    "for root, dirs, files in os.walk('/Users/anushrav/Projects/fiddler-chatbot/documentation_data/v24.1/QuickStart Notebooks'): # make sure this path points to your .ipynb notebooks\n",
    "    for name in files:\n",
    "        path = os.path.join(root, name)\n",
    "        if path[-3:] == '.md':\n",
    "            with open(path,'r') as f:\n",
    "                file_str = f.read()    \n",
    "            print(file_str)\n",
    "            ipynb_links = re.search(r'\\bFiddler_Quickstart_\\w+', file_str)\n",
    "            print(ipynb_links)\n",
    "            if ipynb_links:\n",
    "                with open('/Users/anushrav/Projects/fiddler-chatbot/documentation_data/md-notebooks/'+ipynb_links.group()+'.md') as l: \n",
    "                    QS = l.read()\n",
    "                with open(path, 'a') as f:\n",
    "                    f.write(QS)\n",
    "                print(ipynb_links.group())"
   ]
  },
  {
   "cell_type": "markdown",
   "id": "d43b1b58-85bc-492d-b7fe-4d1c45664471",
   "metadata": {},
   "source": [
    "## Creating list of chunked_docs from downloaded documentation "
   ]
  },
  {
   "cell_type": "code",
   "execution_count": 148,
   "id": "cadd988d-8d2b-46b9-8a3d-b7f18a920280",
   "metadata": {},
   "outputs": [
    {
     "data": {
      "text/plain": [
       "258"
      ]
     },
     "execution_count": 148,
     "metadata": {},
     "output_type": "execute_result"
    }
   ],
   "source": [
    "#change the path to where your downloaded folder is and choose the version of the docs you want to process\n",
    "chunked_doc = []\n",
    "for root, dirs, files in os.walk(f'documentation_data/v24.1'):\n",
    "    for name in files:\n",
    "        path = os.path.join(root, name)\n",
    "        if path[-3:] == '.md':\n",
    "            with open(path,'r') as f:\n",
    "                file_str = f.read()\n",
    "                chunked_doc.append(file_str)\n",
    "                \n",
    "len(chunked_doc)"
   ]
  },
  {
   "cell_type": "code",
   "execution_count": 149,
   "id": "128aa5b4-c398-4f26-b06b-c019f4456e7e",
   "metadata": {},
   "outputs": [
    {
     "data": {
      "text/plain": [
       "242"
      ]
     },
     "execution_count": 149,
     "metadata": {},
     "output_type": "execute_result"
    }
   ],
   "source": [
    "#find and remove hidden pages\n",
    "pattern = r'hidden:\\s*(\\w+)'\n",
    "\n",
    "for doc in chunked_doc:\n",
    "    match = re.search(pattern, doc)\n",
    "    if match and match.group(1) == \"true\":\n",
    "        chunked_doc.remove(doc)\n",
    "        \n",
    "len(chunked_doc)"
   ]
  },
  {
   "cell_type": "markdown",
   "id": "32f0e8cc-ba4f-4be0-9e43-3c263b1f56bf",
   "metadata": {},
   "source": [
    "### Crawl the blog and resources content and append it to chunked_doc list"
   ]
  },
  {
   "cell_type": "code",
   "execution_count": 150,
   "id": "2edb2e96-9b61-452d-b40f-4426ff197d74",
   "metadata": {
    "scrolled": true
   },
   "outputs": [
    {
     "name": "stdout",
     "output_type": "stream",
     "text": [
      "Number of Blogs: 100\n",
      "Title: Managing the Risks of Generative AI\n",
      "Link: https://www.fiddler.ai/blog/managing-the-risks-of-generative-ai\n",
      "Title: Fiddler and Domino Integration: Accelerating ML and LLM applications to Production\n",
      "Link: https://www.fiddler.ai/blog/fiddler-and-domino-integration-accelerating-ml-and-llm-applications-to-production\n",
      "Title: Building RAG-based AI Applications with DataStax and Fiddler\n",
      "Link: https://www.fiddler.ai/blog/building-rag-based-ai-applications-with-datastax-and-fiddler\n",
      "Title: Achieve Enterprise-Grade LLM Observability for Amazon Bedrock with Fiddler\n",
      "Link: https://www.fiddler.ai/blog/achieve-enterprise-grade-llm-observability-for-amazon-bedrock-with-fiddler\n",
      "Title: Monitor and Analyze Hallucinations, Safety, and PII with Fiddler LLM Observability\n",
      "Link: https://www.fiddler.ai/blog/monitor-and-analyze-hallucinations-safety-and-pii-with-fiddler-llm-observability\n",
      "Title: AI and MLOps Roundup: November 2023\n",
      "Link: https://www.fiddler.ai/blog/ai-and-mlops-roundup-november-2023\n",
      "Title: Find the Root Cause of Model Issues with Actionable Insights\n",
      "Link: https://www.fiddler.ai/blog/find-the-root-cause-of-model-issues-with-actionable-insights\n",
      "Title: Building Generative AI Applications for Production\n",
      "Link: https://www.fiddler.ai/blog/building-generative-ai-applications-for-production\n",
      "Title: AI and MLOps Roundup: October 2023\n",
      "Link: https://www.fiddler.ai/blog/ai-and-mlops-roundup-october-2023\n",
      "Title: How to Monitor LLMOps Performance with Drift\n",
      "Link: https://www.fiddler.ai/blog/how-to-monitor-llmops-performance-with-drift\n",
      "Title: AI and MLOps Roundup: September 2023\n",
      "Link: https://www.fiddler.ai/blog/ai-and-mlops-roundup-september-2023\n",
      "Title: Graph Neural Networks and Generative AI\n",
      "Link: https://www.fiddler.ai/blog/graph-neural-networks-and-generative-ai\n",
      "Title: Four Ways that Enterprises Deploy LLMs\n",
      "Link: https://www.fiddler.ai/blog/four-ways-that-enterprises-deploy-llms\n",
      "Title: Accelerating the Production of AI Solutions with Fiddler and Databricks Integration\n",
      "Link: https://www.fiddler.ai/blog/accelerating-the-production-of-ai-solutions-with-fiddler-and-databricks-integration\n",
      "Title: Fiddler Report Generator for AI Risk and Governance\n",
      "Link: https://www.fiddler.ai/blog/fiddler-report-generator-for-ai-risk-and-governance\n",
      "Title: AI and MLOps Roundup: August 2023\n",
      "Link: https://www.fiddler.ai/blog/ai-and-mlops-roundup-august-2023\n",
      "Title: Machine Learning for High Risk Applications\n",
      "Link: https://www.fiddler.ai/blog/machine-learning-for-high-risk-applications\n",
      "Title: Evaluate LLMs Against Prompt Injection Attacks Using Fiddler Auditor\n",
      "Link: https://www.fiddler.ai/blog/evaluate-llms-against-prompt-injection-attacks-using-fiddler-auditor\n",
      "Title: AI and MLOps Roundup: July 2023\n",
      "Link: https://www.fiddler.ai/blog/ai-and-mlops-roundup-july-2023\n",
      "Title: Dentsu Ventures Invests in Fiddler, Enabling Responsible AI\n",
      "Link: https://www.fiddler.ai/blog/dentsu-ventures-invests-in-fiddler-enabling-responsible-ai\n",
      "Title: AI Safety in Generative AI\n",
      "Link: https://www.fiddler.ai/blog/ai-safety-in-generative-ai\n",
      "Title: 91% of ML Models Degrade Over Time\n",
      "Link: https://www.fiddler.ai/blog/91-percent-of-ml-models-degrade-over-time\n",
      "Title: AI and MLOps Roundup: June 2023\n",
      "Link: https://www.fiddler.ai/blog/ai-and-mlops-roundup-june-2023\n",
      "Title: Mozilla Ventures Invests in Fiddler, Fueling Better AI Trust\n",
      "Link: https://www.fiddler.ai/blog/mozilla-ventures-invests-in-fiddler-fueling-better-ai-trust\n",
      "Title: Thinking of AI as a Public Service\n",
      "Link: https://www.fiddler.ai/blog/thinking-of-ai-as-a-public-service\n",
      "Title: Making Image Explanations Human-Centric: Decisions Beyond Heatmaps\n",
      "Link: https://www.fiddler.ai/blog/making-image-explanations-human-centric-decisions-beyond-heatmaps\n",
      "Title: Fiddler Introduces End-to-End Workflow for Robust Generative AI\n",
      "Link: https://www.fiddler.ai/blog/fiddler-introduces-end-to-end-workflow-for-robust-generative-ai\n",
      "Title: Introducing Fiddler Auditor: Evaluate the Robustness of LLMs and NLP Models\n",
      "Link: https://www.fiddler.ai/blog/introducing-fiddler-auditor-evaluate-the-robustness-of-llms-and-nlp-models\n",
      "Title: Best Practices for Responsible AI\n",
      "Link: https://www.fiddler.ai/blog/best-practices-for-responsible-ai\n",
      "Title: LLMOps: Operationalizing Large Language Models\n",
      "Link: https://www.fiddler.ai/blog/llmops-operationalizing-large-language-models\n",
      "Title: Legal Frontiers of AI with Patrick Hall\n",
      "Link: https://www.fiddler.ai/blog/legal-frontiers-of-ai-with-patrick-hall\n",
      "Title: AI and MLOps Roundup: May 2023\n",
      "Link: https://www.fiddler.ai/blog/ai-and-mlops-roundup-may-2023\n",
      "Title: Top 5 Questions on Responsible AI from our Summit\n",
      "Link: https://www.fiddler.ai/blog/top-5-questions-on-responsible-ai-from-our-summit\n",
      "Title: An Intro to LLMs and Generative AI\n",
      "Link: https://www.fiddler.ai/blog/an-intro-to-llms-and-generative-ai\n",
      "Title: Top 5 Questions on LLMOps from our Generative AI Meets Responsible AI Summit\n",
      "Link: https://www.fiddler.ai/blog/top-5-questions-on-llmops-from-our-generative-ai-meets-responsible-ai-summit\n",
      "Title: What is ChatGPT Thinking?\n",
      "Link: https://www.fiddler.ai/blog/what-is-chatgpt-thinking\n",
      "Title: Enterprise Generative AI - Promises vs Compromises\n",
      "Link: https://www.fiddler.ai/blog/enterprise-generative-ai-promises-vs-compromises\n",
      "Title: Alteryx Ventures Announces Strategic Investment in Fiddler to Boost Machine Learning Operations for Customers\n",
      "Link: https://www.fiddler.ai/blog/alteryx-ventures-announces-strategic-investment-in-fiddler-to-boost-machine-learning-operations-for-customers\n",
      "Title: Supercharge Model Performance with Flexible Charts and Dashboards\n",
      "Link: https://www.fiddler.ai/blog/supercharge-model-performance-with-flexible-charts-and-dashboards\n",
      "Title: AI and MLOps Roundup: April 2023\n",
      "Link: https://www.fiddler.ai/blog/ai-mlops-roundup-april-2023\n",
      "Title: Innovating with Generative AI\n",
      "Link: https://www.fiddler.ai/blog/innovating-with-generative-ai\n",
      "Title: The Missing Link in Generative AI\n",
      "Link: https://www.fiddler.ai/blog/the-missing-link-in-generative-ai\n",
      "Title: GPT-4 and the Next Frontier of Generative AI\n",
      "Link: https://www.fiddler.ai/blog/gpt-4-and-the-next-frontier-of-generative-ai\n",
      "Title: LLMOps: The Future of MLOps for Generative AI\n",
      "Link: https://www.fiddler.ai/blog/llmops-the-future-of-mlops-for-generative-ai\n",
      "Title: Generative AI Meets Responsible AI Virtual Summit\n",
      "Link: https://www.fiddler.ai/blog/generative-ai-meets-responsible-ai-virtual-summit\n",
      "Title: Fiddler Integration for Datadog: Monitor ML Metrics That Matter in Datadog\n",
      "Link: https://www.fiddler.ai/blog/fiddler-mpm-integration-for-datadog-apm\n",
      "Title: Human-Centric Design For Fairness And Explainable AI\n",
      "Link: https://www.fiddler.ai/blog/human-centric-design-for-fairness-and-explainable-ai\n",
      "Title: Major Fiddler Upgrades For Actionable Insights And Rich Diagnostics\n",
      "Link: https://www.fiddler.ai/blog/major-fiddler-upgrades-for-actionable-insights-and-rich-diagnostics\n",
      "Title: Monitoring Natural Language Processing and Computer Vision Models, Part 3\n",
      "Link: https://www.fiddler.ai/blog/monitoring-natural-language-processing-and-computer-vision-models-part-3\n",
      "Title: Expect The Unexpected: The Importance of Model Robustness\n",
      "Link: https://www.fiddler.ai/blog/expect-the-unexpected-the-importance-of-model-robustness\n",
      "Title: Five Enterprise AI Trends Following a Breakthrough 2022\n",
      "Link: https://www.fiddler.ai/blog/five-enterprise-ai-trends-following-a-breakthrough-2022\n",
      "Title: Not all Rainbows and Sunshine: the Darker Side of ChatGPT\n",
      "Link: https://www.fiddler.ai/blog/not-all-rainbows-and-sunshine-the-darker-side-of-chatgpt\n",
      "Title: Only Pay For What You Need: New Fiddler Pricing Plans\n",
      "Link: https://www.fiddler.ai/blog/only-pay-for-what-you-need-new-fiddler-pricing-plans\n",
      "Title: Fiddler is Now Available for AWS GovCloud\n",
      "Link: https://www.fiddler.ai/blog/fiddler-is-now-available-for-aws-govcloud\n",
      "Title: How the AI Bill of Rights Impacts You\n",
      "Link: https://www.fiddler.ai/blog/how-the-ai-bill-of-rights-impacts-you\n",
      "Title: Monitoring Natural Language Processing and Computer Vision Models, Part 2\n",
      "Link: https://www.fiddler.ai/blog/monitoring-natural-language-processing-and-computer-vision-models-part-2\n",
      "Title: 5 Things to Know about ML Model Performance\n",
      "Link: https://www.fiddler.ai/blog/5-things-to-know-about-ml-model-performance\n",
      "Title: Fiddler is Now HIPAA Compliant\n",
      "Link: https://www.fiddler.ai/blog/fiddler-is-now-hipaa-compliant\n",
      "Title: Responsible AI by Design\n",
      "Link: https://www.fiddler.ai/blog/responsible-ai-by-design\n",
      "Title: Announcing New Fully Customizable Alerts: Get the Pulse of All Your Models in Real-Time\n",
      "Link: https://www.fiddler.ai/blog/get-the-pulse-of-all-your-models-with-powerful-and-fully-customizable-alerts\n",
      "Title: Which is More Important: Explainability or Monitoring?\n",
      "Link: https://www.fiddler.ai/blog/which-is-more-important-explainability-or-monitoring\n",
      "Title: The Real World Impact of Models without Explainable AI\n",
      "Link: https://www.fiddler.ai/blog/the-real-world-impact-of-models-without-explainable-ai\n",
      "Title: 3 Benefits of Model Monitoring and Explainable AI Before Deployment\n",
      "Link: https://www.fiddler.ai/blog/3-benefits-of-model-monitoring-and-explainable-ai-before-deployment\n",
      "Title: Monitoring Natural Language Processing and Computer Vision Models, Part 1\n",
      "Link: https://www.fiddler.ai/blog/monitoring-natural-language-processing-and-computer-vision-models-part-1\n",
      "Title: ML Model Monitoring Best Practices\n",
      "Link: https://www.fiddler.ai/blog/ml-model-monitoring-best-practices\n",
      "Title: Why You Need Explainable AI\n",
      "Link: https://www.fiddler.ai/blog/why-you-need-explainable-ai\n",
      "Title: Top 4 Model Drift Metrics\n",
      "Link: https://www.fiddler.ai/blog/top-four-model-drift-metrics\n",
      "Title: What is Class Imbalance?\n",
      "Link: https://www.fiddler.ai/blog/what-is-class-imbalance\n",
      "Title: With Great ML Comes Great Responsibility\n",
      "Link: https://www.fiddler.ai/blog/with-great-ml-comes-great-responsibility\n",
      "Title: FairCanary: Rapid Continuous Explainable Fairness\n",
      "Link: https://www.fiddler.ai/blog/faircanary-rapid-continuous-explainable-fairness\n",
      "Title: Detecting Intersectional Unfairness in AI: Part 2\n",
      "Link: https://www.fiddler.ai/blog/detecting-intersectional-unfairness-in-ai-part-2\n",
      "Title: Announcing the New Fiddler: Solving for Unstructured Data and Advanced XAI\n",
      "Link: https://www.fiddler.ai/blog/the-new-fiddler-for-unstructured-models-and-advanced-xai\n",
      "Title: Steer Clear of These 7 MLOps Myths to Avoid Making an “ML-Oops”\n",
      "Link: https://www.fiddler.ai/blog/steer-clear-of-these-7-mlops-myths-to-avoid-making-an-ml-oops\n",
      "Title: AI Regulations Are Here. Are You Ready?\n",
      "Link: https://www.fiddler.ai/blog/ai-regulations-are-here-are-you-ready\n",
      "Title: Measuring Data Drift: Population Stability Index\n",
      "Link: https://www.fiddler.ai/blog/measuring-data-drift-population-stability-index\n",
      "Title: Fiddler Voices: Meet Our Sr. Solutions Engineer, Danny\n",
      "Link: https://www.fiddler.ai/blog/meet-our-sr-solutions-engineer-danny\n",
      "Title: Thinking Beyond OSS Tools for Model Monitoring\n",
      "Link: https://www.fiddler.ai/blog/thinking-beyond-oss-tools-for-model-monitoring\n",
      "Title: Fiddler Voices: Meet Our ML Engineer, Kening\n",
      "Link: https://www.fiddler.ai/blog/meet-our-ml-engineer-kening\n",
      "Title: Implementing Model Performance Management in Practice\n",
      "Link: https://www.fiddler.ai/blog/implementing-model-performance-management-in-practice\n",
      "Title: Fiddler Voices: Meet Our Data Scientist, Murtuza\n",
      "Link: https://www.fiddler.ai/blog/meet-our-data-scientist-murtuza\n",
      "Title: Fiddler AI Named a Top 50 Data Startup by Andreesen Horowitz\n",
      "Link: https://www.fiddler.ai/blog/fiddler-named-top-50-data-startup-by-andreesen-horowitz\n",
      "Title: Detecting Intersectional Unfairness in AI: Part 1\n",
      "Link: https://www.fiddler.ai/blog/detecting-intersectional-unfairness-in-ai-part-1\n",
      "Title: Business Roundtable’s 10 Core Principles for Responsible AI\n",
      "Link: https://www.fiddler.ai/blog/business-roundtable-core-principles-for-responsible-ai\n",
      "Title: MLOps Lifecycle\n",
      "Link: https://www.fiddler.ai/blog/mlops-lifecycle\n",
      "Title: We Stand With Ukraine\n",
      "Link: https://www.fiddler.ai/blog/we-stand-with-ukraine\n",
      "Title: Explainable AI\n",
      "Link: https://www.fiddler.ai/blog/explainable-ai\n",
      "Title: Model Performance Management\n",
      "Link: https://www.fiddler.ai/blog/model-performance-management\n",
      "Title: Q&A with Bigabid CTO: Monitoring Thousands of Models in Production\n",
      "Link: https://www.fiddler.ai/blog/qa-with-bigabid-cto-monitoring-thousands-of-models-in-production\n",
      "Title: XAI Summit Highlights: Responsible AI in Banking\n",
      "Link: https://www.fiddler.ai/blog/xai-summit-highlights-responsible-ai-in-banking\n",
      "Title: The New 5-Step Approach to Model Governance for the Modern Enterprise\n",
      "Link: https://www.fiddler.ai/blog/the-new-5-step-approach-to-model-governance-for-the-modern-enterprise\n",
      "Title: Drift in Machine Learning: How to Identify Issues Before You Have a Problem\n",
      "Link: https://www.fiddler.ai/blog/drift-in-machine-learning-how-to-identify-issues-before-you-have-a-problem\n",
      "Title: Fiddler Announces SOC 2 Type II Certification\n",
      "Link: https://www.fiddler.ai/blog/fiddler-announces-soc-2-type-ii-certification\n",
      "Title: A Maturity Model for AI Ethics - An XAI Summit Highlight\n",
      "Link: https://www.fiddler.ai/blog/a-maturity-model-for-ai-ethics\n",
      "Title: Where Do We Go from Here? The Case for Explainable AI\n",
      "Link: https://www.fiddler.ai/blog/where-do-we-go-from-here-the-case-for-explainable-ai\n",
      "Title: Zillow Offers: A Case for Model Risk Management\n",
      "Link: https://www.fiddler.ai/blog/zillow-offers-a-case-for-model-risk-management\n",
      "Title: Responsible AI Shifts Into High Gear\n",
      "Link: https://www.fiddler.ai/blog/responsible-ai-shifts-into-high-gear\n",
      "Title: The Key Role of Explainable AI in the Next Decade\n",
      "Link: https://www.fiddler.ai/blog/the-key-role-of-explainable-ai-in-the-next-decade\n",
      "Title: Announcing Fiddler India!\n",
      "Link: https://www.fiddler.ai/blog/announcing-fiddler-india\n",
      "Title: Fiddler Recognized as a Representative Vendor in the 2021 Gartner Market Guide\n",
      "Link: https://www.fiddler.ai/blog/fiddler-recognized-as-a-representative-vendor-in-the-2021-gartner-market-guide-for-ai-trust-risk-and-security-management-report\n",
      "Title: Fiddler Listed As A Sample Vendor for Explainable AI in Two 2021 Gartner Hype Cycle Reports\n",
      "Link: https://www.fiddler.ai/blog/fiddler-listed-as-a-sample-vendor-for-explainable-ai-in-two-2021-gartner-hype-cycle-reports\n"
     ]
    }
   ],
   "source": [
    "def crawl_rss_feed(rss_url):\n",
    "    # Parse the RSS feed\n",
    "    feed = feedparser.parse(rss_url)\n",
    "\n",
    "    print(\"Number of Blogs:\", len(feed.entries))\n",
    "    \n",
    "    # Iterate through the entries in the feed\n",
    "    for entry in feed.entries:\n",
    "\n",
    "        # Get the URL of the blog article\n",
    "        article_url = entry.link\n",
    "\n",
    "        # Fetch the content of the article\n",
    "        response = requests.get(article_url)\n",
    "        html_content = response.content.decode('utf-8', 'ignore')\n",
    "\n",
    "        # Use BeautifulSoup to parse the HTML and extract the body\n",
    "        soup = BeautifulSoup(html_content, 'html.parser')\n",
    "        div_content = soup.find('div', class_='blog-post_content-wrapper')  # You may need to adjust this based on the HTML structure\n",
    "\n",
    "        # Print or manipulate the content of the div\n",
    "        if div_content:\n",
    "            print(\"Title:\", entry.title)\n",
    "            print(\"Link:\", entry.link)\n",
    "            itemtext=''\n",
    "            for item in div_content.select('p'):\n",
    "                itemtext+=item.text + ' '\n",
    "            chunked_doc.append(\"BlogLink:\" + entry.link + \" Content: \" + itemtext)\n",
    "        else:\n",
    "            print(\"Div not found.\")\n",
    "\n",
    "# Replace 'your_rss_feed_url' with the actual RSS feed URL\n",
    "rss_feed_url = 'https://www.fiddler.ai/blog/rss.xml'\n",
    "crawl_rss_feed(rss_feed_url)"
   ]
  },
  {
   "cell_type": "code",
   "execution_count": 151,
   "id": "f24c7bca-6280-4003-82d1-7d43dcdd6aa2",
   "metadata": {
    "scrolled": true
   },
   "outputs": [
    {
     "name": "stdout",
     "output_type": "stream",
     "text": [
      "Number of Resources: 93\n",
      "Title: 10 Lessons from Developing an AI Chatbot Using Retrieval-Augmented Generation | Fiddler AI\n",
      "Link: https://www.fiddler.ai/resources/10-lessons-from-developing-an-ai-chatbot-using-retrieval-augmented-generation\n",
      "Title: The Science and Engineering Behind LLMs - AI Forward | Fiddler AI\n",
      "Link: https://www.fiddler.ai/resources/ai-forward-the-science-and-engineering-behind-llms\n",
      "Title: Everyday Challenges and Opportunities with LLMs Pre- and Post-Production - AI Forward | Fiddler AI\n",
      "Link: https://www.fiddler.ai/resources/ai-forward-everyday-challenges-and-opportunities-with-llms-pre-and-post-production\n",
      "Title: LLM POC to Production: Insights From ",
      "an Infrastructure Viewpoint - AI Forward | Fiddler AI\n",
      "Link: https://www.fiddler.ai/resources/ai-forward-llm-poc-to-production-insights-from-an-infrastructure-viewpoint\n",
      "Title: Evaluating LLMs with Fiddler Auditor - AI Forward | Fiddler AI\n",
      "Link: https://www.fiddler.ai/resources/ai-forward-evaluating-llms-with-fiddler-auditor\n",
      "Title: How is ChatGPT’s Behavior Changing Over Time? - AI Forward | Fiddler AI\n",
      "Link: https://www.fiddler.ai/resources/ai-forward-how-is-chatgpts-behavior-changing-over-time\n",
      "Title: Fireside Chat: CEOs in Conversation - AI Forward | Fiddler AI\n",
      "Link: https://www.fiddler.ai/resources/ai-forward-fireside-chat-ceos-in-conversation\n",
      "Title: Can LLMs Be Explained? - AI Forward | Fiddler AI\n",
      "Link: https://www.fiddler.ai/resources/ai-forward-can-llms-be-explained\n",
      "Title: Chat on Chatbots: Tips and Tricks - AI Forward | Fiddler AI\n",
      "Link: https://www.fiddler.ai/resources/ai-forward-chat-on-chatbots-tips-and-tricks\n",
      "Title: Leadership Perspectives: Use Cases and ROI of LLMs - AI Forward | Fiddler AI\n",
      "Link: https://www.fiddler.ai/resources/ai-forward-leadership-perspectives-use-cases-and-roi-of-llms\n",
      "Title: Fiddler AI Observability Platform for MLOps - AI Forward | Fiddler AI\n",
      "Link: https://www.fiddler.ai/resources/ai-forward-fiddler-ai-observability-platform-for-mlops\n",
      "Title: Fiddler AI Observability Platform for LLMOps - AI Forward | Fiddler AI\n",
      "Link: https://www.fiddler.ai/resources/ai-forward-fiddler-ai-observability-platform-for-llmops\n",
      "Title: Effective Enterprise Compliance: Make a Leap of Trust with FRoG - AI Forward | Fiddler AI\n",
      "Link: https://www.fiddler.ai/resources/ai-forward-effective-enterprise-compliance-make-a-leap-of-trust-with-frog\n",
      "Title: Demo - Fiddler Auditor: Evaluate LLMs to Prevent Prompt Injection Attacks | Fiddler AI\n",
      "Link: https://www.fiddler.ai/resources/fiddler-auditor-evaluate-llms-to-prevent-prompt-injection-attacks\n",
      "Title: Datasheet: Fiddler AI Observability Platform | Fiddler AI\n",
      "Link: https://www.fiddler.ai/resources/ai-observability-platform\n",
      "Title: Demo - Quicktour: Monitor NLP and LLM-based Embeddings for Data Drift | Fiddler AI\n",
      "Link: https://www.fiddler.ai/resources/monitor-nlp-and-llm-based-embeddings-for-data-drift\n",
      "Title: Demo - Fiddler Auditor: The Open Source Robustness Library for Red-teaming of LLMs | Fiddler AI\n",
      "Link: https://www.fiddler.ai/resources/fiddler-auditor-the-open-source-robustness-library-for-red-teaming-of-llms\n",
      "Title: Demo - How to improve LLMs with robustness testing in pre-production | Fiddler AI\n",
      "Link: https://www.fiddler.ai/resources/fiddler-auditor-improve-llms-with-robustness-testing-in-pre-production\n",
      "Title: Datasheet: AI Observability | Fiddler AI\n",
      "Link: https://www.fiddler.ai/resources/build-responsible-ai-with-ai-observability\n",
      "Title: Demo - LLM-based Embedding Monitoring | Fiddler AI\n",
      "Link: https://www.fiddler.ai/resources/llm-based-embedding-monitoring-track-llm-performance-by-monitoring-drift\n",
      "Title: Demo - Quicktour: Deliver high-performing ML for better Business Outcomes Using Fiddler AI Observability  | Fiddler AI\n",
      "Link: https://www.fiddler.ai/resources/deliver-high-performing-ml-for-better-business-outcomes\n",
      "Title: Best Practices for Responsible AI - Generative AI Meets Responsible AI | Fiddler AI\n",
      "Link: https://www.fiddler.ai/resources/gai-meets-rai-best-practices-for-responsible-ai\n",
      "Title: Thinking of AI as a Public Service - Generative AI Meets Responsible AI | Fiddler AI\n",
      "Link: https://www.fiddler.ai/resources/gai-meets-rai-thinking-of-ai-as-a-public-service\n",
      "Title: LLMOps: Operationalizing Large Language Models - Generative AI Meets Responsible AI | Fiddler AI\n",
      "Link: https://www.fiddler.ai/resources/gai-meets-rai-llmops-operationalizing-large-language-models\n",
      "Title: Enterprise Generative AI - Promises vs Compromises - Generative AI Meets Responsible AI | Fiddler AI\n",
      "Link: https://www.fiddler.ai/resources/gai-meets-rai-enterprise-generative-ai-promises-vs-compromises\n",
      "Title: Innovating with Generative AI - Generative AI Meets Responsible AI | Fiddler AI\n",
      "Link: https://www.fiddler.ai/resources/gai-meets-rai-innovating-with-generative-ai\n",
      "Title: Explainability in the Age of Generative AI - Generative AI Meets Responsible AI | Fiddler AI\n",
      "Link: https://www.fiddler.ai/resources/gai-meets-rai-explainability-in-the-age-or-generative-ai\n",
      "Title: Podcast: Solving Black Box Problems in Financial Services with Machine Learning | Fiddler AI\n",
      "Link: https://www.fiddler.ai/resources/ai-in-banking-solving-black-box-problems-in-financial-services-with-machine-learning\n",
      "Title: Demo - Product Overview: Operationalize ML Models at Scale With Fiddler Model Performance Management | Fiddler AI\n",
      "Link: https://www.fiddler.ai/resources/operationalize-ml-models-at-scale-with-fiddler-model-performance-management\n",
      "Title: Podcast: Forward - Building Trust Into AI With Model Monitoring, Explainable AI, and Analytics with Krishna Gade | Fiddler AI\n",
      "Link: https://www.fiddler.ai/resources/forward-building-trust-into-ai-with-model-monitoring-explainable-ai-and-analytics\n",
      "Title: Podcast: SE Daily - MLOps Systems at Scale with Krishna Gade | Fiddler AI\n",
      "Link: https://www.fiddler.ai/resources/se-daily-mlops-systems-at-scale\n",
      "Title: Demo - Custom Dashboards and Insights: Increase Organizational Alignment for Better Decision Making | Fiddler AI\n",
      "Link: https://www.fiddler.ai/resources/custom-dashboards-and-insights-increase-organizational-alignment-for-better-decision-making\n",
      "Title: MLOps Community: Approaches to Fairness and XAI | Fiddler AI\n",
      "Link: https://www.fiddler.ai/resources/mlops-community-coffee-sessions-approaches-to-fairness-and-xai\n",
      "Title: Demo: Monitoring Models with Unstructured Data | Fiddler AI\n",
      "Link: https://www.fiddler.ai/resources/monitoring-models-with-unstructured-data\n",
      "Title: Quick Tour: Deliver Better Model Outcomes with Contextual Insights | Fiddler AI\n",
      "Link: https://www.fiddler.ai/resources/deliver-better-model-outcomes-with-contextual-insights\n",
      "Title: Quick Tour: Evaluate Models to Ensure They Are High-Performing | Fiddler AI\n",
      "Link: https://www.fiddler.ai/resources/evaluate-models-to-ensure-they-are-high-performing\n",
      "Title: Quick Tour: Understand the 'Why' and 'How' Behind Your Models | Fiddler AI\n",
      "Link: https://www.fiddler.ai/resources/understand-the-why-and-how-behind-your-models\n",
      "Title: Quick Tour: Monitor Model Performance and Drift | Fiddler AI\n",
      "Link: https://www.fiddler.ai/resources/monitor-model-performance-and-drift\n",
      "Title: Demo - Alerts Overview: Accelerate the Time to Detect Issues with Powerful Alerts | Fiddler AI\n",
      "Link: https://www.fiddler.ai/resources/alerts-overview-accelerate-the-time-to-detect-issues-with-powerful-alerts\n",
      "Title: Podcast: Learning Curve? Understanding ML's Growing Role | Fiddler AI\n",
      "Link: https://www.fiddler.ai/resources/dmradio-learning-curve-understanding-mls-growing-role\n",
      "Title: MLOps Community: Obtain New Insights on Model Behavior with Fiddler | Fiddler AI\n",
      "Link: https://www.fiddler.ai/resources/obtain-new-insights-on-model-behavior-with-fiddler\n",
      "Title: Podcast: In AI We Trust? - Citizen Audits Are Coming | Fiddler AI\n",
      "Link: https://www.fiddler.ai/resources/in-ai-we-trust-citizen-audits-are-coming-are-you-ready\n",
      "Title: Podcast: Digital Disrupted - How Are You Explaining Your AI? | Fiddler AI\n",
      "Link: https://www.fiddler.ai/resources/digital-distrupted-how-are-you-explaining-your-ai-today\n",
      "Title: MLOps Community Coffee Sessions: Trustworthy Machine Learning Coffee Sessions | Fiddler AI\n",
      "Link: https://www.fiddler.ai/resources/mlops-community-coffee-sessions-trustworthy-machine-learning-coffee-sessions\n",
      "Title: Amazon re:Mars 2022 Startup Spotlight - Fiddler AI | Fiddler AI\n",
      "Link: https://www.fiddler.ai/resources/amazon-re-mars-2022-aws-on-air-ft-startup-spotlight-fiddler\n",
      "Title: FAccT 2022: Model Performance Management | Fiddler AI\n",
      "Link: https://www.fiddler.ai/resources/facct-2022-model-performance-management\n",
      "Title: FAccT 2022: Model Monitoring in Practice - Lessons Learned | Fiddler AI\n",
      "Link: https://www.fiddler.ai/resources/facct-2022-model-monitoring-in-practice-lessons-learned-and-open-challenges\n",
      "Title: FAccT 2022: Model Monitoring Conclusions and Takeaways | Fiddler AI\n",
      "Link: https://www.fiddler.ai/resources/facct-2022-model-monitoring-conclusions-and-takeaways\n",
      "Title: FAccT 2022: Model Interpretations and Explanations | Fiddler AI\n",
      "Link: https://www.fiddler.ai/resources/facct-2022-model-interpretations-and-explanations\n",
      "Title: FAccT 2022: Adversarial Robustness of Deployed ML Models | Fiddler AI\n",
      "Link: https://www.fiddler.ai/resources/facct-2022-adversarial-robustness-of-deployed-ml-models\n",
      "Title: FAccT 2022: Model Performance Degradation | Fiddler AI\n",
      "Link: https://www.fiddler.ai/resources/facct-2022-model-performance-degradation\n",
      "Title: Research: A Human-Centric Take on Model Monitoring | Fiddler AI\n",
      "Link: https://www.fiddler.ai/resources/a-human-centric-take-on-model-monitoring\n",
      "Title: Montgomery Summit 2022: The Need for Model Performance Management | Fiddler AI\n",
      "Link: https://www.fiddler.ai/resources/montgomery-summit-2022-the-need-for-model-performance-management\n",
      "Title: AIIA MLOps Summit: Model Performance Management in Action | Fiddler AI\n",
      "Link: https://www.fiddler.ai/resources/aiia-mlops-day-2-summit-2022-model-performance-management-in-action\n",
      "Title: Amazon re:MARS 2022: Krishna Gade, Founder & CEO of Fiddler | Fiddler AI\n",
      "Link: https://www.fiddler.ai/resources/amazon-remars-2022-krishna-gade\n",
      "Title: Research: FairCanary - Rapid Continuous Explainable Fairness | Fiddler AI\n",
      "Link: https://www.fiddler.ai/resources/faircanary-rapid-continuous-explainable-fairness\n",
      "Title: Data Driven NYC: Building Trust Into AI & ML with Fiddler | Fiddler AI\n",
      "Link: https://www.fiddler.ai/resources/data-driven-nyc-building-trust-into-ai-and-ml\n",
      "Title: FinRegLabs: Explainability of Credit Underwriting ML Models | Fiddler AI\n",
      "Link: https://www.fiddler.ai/resources/finreglab-2022-explainability-of-machine-learning-in-credit-underwriting-models\n",
      "Title: Insight Partners: Responsible AI | Fiddler AI\n",
      "Link: https://www.fiddler.ai/resources/rise-and-ignite-responsible-ai\n",
      "Title: XAI Summit 2020: The Past, Present, and Future States of Explainable AI | Fiddler AI\n",
      "Link: https://www.fiddler.ai/resources/xai-summit-2020-the-past-present-and-future-states-of-explainable-ai\n",
      "Title: Podcast: Responsible AI - Scott Zoldi, Chief Analytics Officer, FICO | Fiddler AI\n",
      "Link: https://www.fiddler.ai/resources/responsible-ai-with-scott-zoldi-its-time-for-ai-to-grow-up\n",
      "Title: Podcast: Responsible AI - Anjana Susarla, Professor of RAI | Fiddler AI\n",
      "Link: https://www.fiddler.ai/resources/responsible-ai-with-anjana-susarla-the-industry-is-still-in-a-very-nascent-phase\n",
      "Title: ML Fairness Summit: Intersectional Group Fairness | Fiddler AI\n",
      "Link: https://www.fiddler.ai/resources/ml-fairness-summit-2021-intersectional-group-fairness\n",
      "Title: MLOps Community: Model Monitoring and Why You Need it | Fiddler AI\n",
      "Link: https://www.fiddler.ai/resources/mlops-community-coffee-sessions-model-performance-monitoring-and-why-you-need-it-yesterday\n",
      "Title: Podcast: Responsible AI - Anand Rao, Global AI Lead, PwC | Fiddler AI\n",
      "Link: https://www.fiddler.ai/resources/responsible-ai-with-anand-rao-its-the-right-thing-to-do\n",
      "Title: AWS Startup Showcase: Krishna Gade, Founder & CEO of Fiddler | Fiddler AI\n",
      "Link: https://www.fiddler.ai/resources/cube-conversation-2021-the-next-big-things-in-ai-security-and-life-sciences\n",
      "Title: apply() Conf 2021: MLOps Done Right with Model Performance Management | Fiddler AI\n",
      "Link: https://www.fiddler.ai/resources/applyconf-2021-mlops-done-right-with-model-performance-management\n",
      "Title: Podcast: Responsible AI - Fiona McEvoy, Founder of YouTheData | Fiddler AI\n",
      "Link: https://www.fiddler.ai/resources/responsible-ai-with-fiona-mcevoy-were-at-an-interesting-inflection-point-for-humanity\n",
      "Title: How Explainable AI Keeps Models Understandable & Trustworthy | Fiddler AI\n",
      "Link: https://www.fiddler.ai/resources/how-explainable-ai-keeps-decision-making-algos-understandable-efficient-and-trustworthy\n",
      "Title: Podcast: Responsible AI - Lofred Madzou, AI Lead, World Economic Forum | Fiddler AI\n",
      "Link: https://www.fiddler.ai/resources/responsible-ai-with-lofred-madzou-only-responsible-ai-companies-will-survive\n",
      "Title: Video: Responsible AI - Karen Hao, Senior AI Reporter, MIT | Fiddler AI\n",
      "Link: https://www.fiddler.ai/resources/xai-summit-2020-firseside-chat-with-karen-hao\n",
      "Title: XAI Summit 2020: Responsible AI - Scott Belsky, CPO, Adobe | Fiddler AI\n",
      "Link: https://www.fiddler.ai/resources/xai-summit-2020-fireside-chat-with-scott-belsky\n",
      "Title: Video: Responsible AI - Hype vs Reality | Fiddler AI\n",
      "Link: https://www.fiddler.ai/resources/responsible-ai-hype-vs-reality-and-building-responsibly-at-every-stage-of-ai\n",
      "Title: Video: Responsible AI - Key AI Considerations in Finance | Fiddler AI\n",
      "Link: https://www.fiddler.ai/resources/xai-summit-2020-key-considerations-on-ai-in-finance\n",
      "Title: Video: Accelerate AI Risk Mitigation with XAI & Monitoring | Fiddler AI\n",
      "Link: https://www.fiddler.ai/resources/ai-summit-2020-accelerate-ai-risk-mitigation-with-xai-and-continuous-monitoring\n",
      "Title: Podcast: Responsible AI - Maria Axente, RAI Lead for PwC UK | Fiddler AI\n",
      "Link: https://www.fiddler.ai/resources/responsible-ai-with-maria-axente-ai-ethics-is-a-team-sport\n",
      "Title: Achieving Responsible AI in Finance - Ai4 2021 Finance Summit | Fiddler AI\n",
      "Link: https://www.fiddler.ai/resources/ai4-2021-finance-summit-achieving-responsible-ai-in-finance-with-model-performance-management\n",
      "Title: Innovating with Scott Amyx: Krishna Gade, CEO of Fiddler | Fiddler AI\n",
      "Link: https://www.fiddler.ai/resources/innovating-with-scott-amyx-interview-with-krishna-gade-ceo-of-fiddler\n",
      "Title: MLOps Community: How Explainable AI is Critical to Responsible AI | Fiddler AI\n",
      "Link: https://www.fiddler.ai/resources/mlops-community-meetup-how-explainable-ai-is-critical-to-building-responsible-ai\n",
      "Title: Re-Work Explainable AI Summit 2021: The Future of Explainable AI | Fiddler AI\n",
      "Link: https://www.fiddler.ai/resources/re-work-explainable-ai-summit-2021-the-future-of-explainable-ai\n",
      "Title: Research: Unified Shapley Framework to Explain Prediction Drift | Fiddler AI\n",
      "Link: https://www.fiddler.ai/resources/unified-shapley-framework-to-explain-prediction-drift\n",
      "Title: AWS Partner: Meet Fiddler - Explainable AI for Your MLOps | Fiddler AI\n",
      "Link: https://www.fiddler.ai/resources/aws-howdy-partner-meet-fiddler-explainable-ai-for-your-mlops\n",
      "Title: Research: Intersectional Fairness with Worst-Case Comparisons | Fiddler AI\n",
      "Link: https://www.fiddler.ai/resources/characterizing-intersectional-group-fairness-with-worst-case-comparisons\n",
      "Title: XAI Summit 2020: Responsible AI - Ethical and Accountable AI | Fiddler AI\n",
      "Link: https://www.fiddler.ai/resources/xai-summit-2020-responsible-ai-considerations-for-ethical-and-accountable-ai-deployment\n",
      "Title: Research: Explainable Machine Learning in Deployment | Fiddler AI\n",
      "Link: https://www.fiddler.ai/resources/explainable-machine-learning-in-deployment\n",
      "Title: Research: Explaining Machine Learning Models Using Shapley Values | Fiddler AI\n",
      "Link: https://www.fiddler.ai/resources/the-explanation-game-explaining-machine-learning-models-using-shapley-values\n",
      "Title: TechCrunch Sessions 2020: Open the Black Box With Explainable AI | Fiddler AI\n",
      "Link: https://www.fiddler.ai/resources/tc-sessions-robotics-ai-2020-opening-the-black-box-with-explainable-ai\n",
      "Title: FAccT 2020: Explainable AI - Practical Challenges & Lessons | Fiddler AI\n",
      "Link: https://www.fiddler.ai/resources/facct-2020-explainable-ai-in-industry-practical-challenges-and-lessons-learned\n",
      "Title: Luke Merrick - Explaining AI: Putting Theory into Practice | Fiddler AI\n",
      "Link: https://www.fiddler.ai/resources/data-council-2019-explaining-ai-putting-theory-into-practice\n",
      "Title: Beyond the AI Hype panel with Tom Taulli, Forbes | Fiddler AI\n",
      "Link: https://www.fiddler.ai/resources/beyond-the-ai-hype-a-discussion-with-tom-taulli\n",
      "Title: Research: Randomized Ablation Feature Importance | Fiddler AI\n",
      "Link: https://www.fiddler.ai/resources/randomized-ablation-feature-importance\n",
      "Title: Research: Explainable AI in Industry | Fiddler AI\n",
      "Link: https://www.fiddler.ai/resources/explainable-ai-in-industry\n",
      "Title: TiEcon 2019: Enterprise AI Opportunities & Challenges | Fiddler AI\n",
      "Link: https://www.fiddler.ai/resources/tiecon-2019-enterprise-ai-opportunities-and-challenges\n"
     ]
    }
   ],
   "source": [
    "def crawl_rss_feed(rss_url):\n",
    "    # Parse the RSS feed\n",
    "    feed = feedparser.parse(rss_url)\n",
    "\n",
    "    print(\"Number of Resources:\", len(feed.entries))\n",
    "    \n",
    "    # Iterate through the entries in the feed\n",
    "    for entry in feed.entries:\n",
    "\n",
    "        # Get the URL of the blog article\n",
    "        article_url = entry.link\n",
    "\n",
    "        # Fetch the content of the article\n",
    "        response = requests.get(article_url)\n",
    "        html_content = response.content.decode('utf-8', 'ignore')\n",
    "\n",
    "        # Use BeautifulSoup to parse the HTML and extract the body\n",
    "        soup = BeautifulSoup(html_content, 'html.parser')\n",
    "\n",
    "        \n",
    "        div_content = soup.find('div', class_='resources-copy')  # You may need to adjust this based on the HTML structure\n",
    "\n",
    "        # Print or manipulate the content of the div\n",
    "        if div_content:\n",
    "            print(\"Title:\", entry.title)\n",
    "            print(\"Link:\", entry.link)\n",
    "            itemtext=''\n",
    "            for item in div_content.select('p'):\n",
    "                itemtext+=item.text + ' '\n",
    "            chunked_doc.append(\"ResourceLink:\" + entry.link + \" Content: \" + itemtext)\n",
    "        else:\n",
    "            print(\"Div not found.\")\n",
    "\n",
    "# Replace 'your_rss_feed_url' with the actual RSS feed URL\n",
    "rss_feed_url = 'http://www.fiddler.ai/resources/rss.xml'\n",
    "crawl_rss_feed(rss_feed_url)"
   ]
  },
  {
   "cell_type": "code",
   "execution_count": 152,
   "id": "94bc3813-bc83-40be-8605-de3839b50efb",
   "metadata": {},
   "outputs": [
    {
     "data": {
      "text/plain": [
       "435"
      ]
     },
     "execution_count": 152,
     "metadata": {},
     "output_type": "execute_result"
    }
   ],
   "source": [
    "len(chunked_doc)"
   ]
  },
  {
   "cell_type": "code",
   "execution_count": 153,
   "id": "26ee60d6-0090-465c-b353-b29797915e67",
   "metadata": {},
   "outputs": [],
   "source": [
    "#we will append page slugs or blog links to every chunk\n",
    "slug_pattern = r'slug:\\s*\"(.*?)\"'\n",
    "blog_pattern = r'BlogLink:https://www\\.fiddler\\.ai/blog/([\\w-]+)'\n",
    "resource_pattern = r'ResourceLink:https://www\\.fiddler\\.ai/resources/([\\w-]+)'"
   ]
  },
  {
   "cell_type": "code",
   "execution_count": 154,
   "id": "69f7fabd-f713-432c-9ffe-9c348f87cd93",
   "metadata": {},
   "outputs": [],
   "source": [
    "#chunking docs to 750 tokens\n",
    "\n",
    "token_lim_doc = []\n",
    "for doc in chunked_doc:\n",
    "    if num_tokens(doc) > 750:\n",
    "        chunked_list = chunked_string(doc, max_tokens=750)\n",
    "        \n",
    "        # see if a doc slug or a blog link is detected\n",
    "        slug = re.search(slug_pattern, chunked_list[0])\n",
    "        blog = re.search(blog_pattern, chunked_list[0])\n",
    "\n",
    "        if slug:\n",
    "            chunked_doc_slug = slug.group(0)\n",
    "            for i in range(1, len(chunked_list)):\n",
    "                chunked_list[i] = chunked_doc_slug + ' ' + chunked_list[i]\n",
    "        \n",
    "        if blog:\n",
    "            chunked_doc_blog = blog.group(0)\n",
    "            for i in range(1, len(chunked_list)):\n",
    "                chunked_list[i] = chunked_doc_blog + ' ' + chunked_list[i]\n",
    "        \n",
    "        token_lim_doc += chunked_list\n",
    "    else:\n",
    "        token_lim_doc.append(doc)"
   ]
  },
  {
   "cell_type": "code",
   "execution_count": 155,
   "id": "6cf3db71-ccaf-44cc-b8a4-e03e043c55f5",
   "metadata": {},
   "outputs": [
    {
     "data": {
      "text/html": [
       "<div>\n",
       "<style scoped>\n",
       "    .dataframe tbody tr th:only-of-type {\n",
       "        vertical-align: middle;\n",
       "    }\n",
       "\n",
       "    .dataframe tbody tr th {\n",
       "        vertical-align: top;\n",
       "    }\n",
       "\n",
       "    .dataframe thead th {\n",
       "        text-align: right;\n",
       "    }\n",
       "</style>\n",
       "<table border=\"1\" class=\"dataframe\">\n",
       "  <thead>\n",
       "    <tr style=\"text-align: right;\">\n",
       "      <th></th>\n",
       "      <th>text</th>\n",
       "    </tr>\n",
       "  </thead>\n",
       "  <tbody>\n",
       "    <tr>\n",
       "      <th>279</th>\n",
       "      <td>package.py for R based models```python\\nimport...</td>\n",
       "    </tr>\n",
       "    <tr>\n",
       "      <th>280</th>\n",
       "      <td>Once you have added a model on the Fiddler pla...</td>\n",
       "    </tr>\n",
       "    <tr>\n",
       "      <th>281</th>\n",
       "      <td>Custom metrics is an upcoming feature and it i...</td>\n",
       "    </tr>\n",
       "    <tr>\n",
       "      <th>282</th>\n",
       "      <td>Re-uploading in Fiddler essentially means havi...</td>\n",
       "    </tr>\n",
       "    <tr>\n",
       "      <th>320</th>\n",
       "      <td>Currently, only the following fields in [fdl.M...</td>\n",
       "    </tr>\n",
       "    <tr>\n",
       "      <th>321</th>\n",
       "      <td>AI has been in the limelight thanks to ‌recent...</td>\n",
       "    </tr>\n",
       "    <tr>\n",
       "      <th>6</th>\n",
       "      <td>LLM means large language model.  A large langu...</td>\n",
       "    </tr>\n",
       "    <tr>\n",
       "      <th>7</th>\n",
       "      <td>The term generative AI, or GenAI, also is clos...</td>\n",
       "    </tr>\n",
       "    <tr>\n",
       "      <th>8</th>\n",
       "      <td>FM, or FMs, means Foundation Models.  Foundati...</td>\n",
       "    </tr>\n",
       "  </tbody>\n",
       "</table>\n",
       "</div>"
      ],
      "text/plain": [
       "                                                  text\n",
       "279  package.py for R based models```python\\nimport...\n",
       "280  Once you have added a model on the Fiddler pla...\n",
       "281  Custom metrics is an upcoming feature and it i...\n",
       "282  Re-uploading in Fiddler essentially means havi...\n",
       "320  Currently, only the following fields in [fdl.M...\n",
       "321  AI has been in the limelight thanks to ‌recent...\n",
       "6    LLM means large language model.  A large langu...\n",
       "7    The term generative AI, or GenAI, also is clos...\n",
       "8    FM, or FMs, means Foundation Models.  Foundati..."
      ]
     },
     "execution_count": 155,
     "metadata": {},
     "output_type": "execute_result"
    }
   ],
   "source": [
    "#Read in old caveats from previous version and output them to a new file\n",
    "old_df = pd.read_csv('documentation_data/latest_v_23-4_tk750_fixurls2.csv')\n",
    "caveats_df = old_df[~old_df['text'].str.contains('slug', case=False)]\n",
    "caveats_df = caveats_df.drop(columns=['embedding'])\n",
    "caveats_df.to_csv(f'documentation_data/v{release_num}/caveats.csv', index=False)\n",
    "\n",
    "caveats_df.loc[len(caveats_df.index)] = ['LLM means large language model.  A large language model (LLM) is a type of artificial intelligence (AI) algorithm that uses deep learning techniques and massively large data sets to understand, summarize, generate and predict new content.']\n",
    "caveats_df.loc[len(caveats_df.index)] = ['The term generative AI, or GenAI, also is closely connected with LLMs, which are, in fact, a type of generative AI that has been specifically architected to help generate text-based content.']\n",
    "caveats_df.loc[len(caveats_df.index)] = ['FM, or FMs, means Foundation Models.  Foundation Models are the same as large language models.']\n",
    "\n",
    "caveats_df"
   ]
  },
  {
   "cell_type": "code",
   "execution_count": 156,
   "id": "ad02b4d7-ffe5-4610-95f5-9d6cec911baf",
   "metadata": {},
   "outputs": [
    {
     "data": {
      "text/html": [
       "<div>\n",
       "<style scoped>\n",
       "    .dataframe tbody tr th:only-of-type {\n",
       "        vertical-align: middle;\n",
       "    }\n",
       "\n",
       "    .dataframe tbody tr th {\n",
       "        vertical-align: top;\n",
       "    }\n",
       "\n",
       "    .dataframe thead th {\n",
       "        text-align: right;\n",
       "    }\n",
       "</style>\n",
       "<table border=\"1\" class=\"dataframe\">\n",
       "  <thead>\n",
       "    <tr style=\"text-align: right;\">\n",
       "      <th></th>\n",
       "      <th>text</th>\n",
       "    </tr>\n",
       "  </thead>\n",
       "  <tbody>\n",
       "    <tr>\n",
       "      <th>0</th>\n",
       "      <td>---\\ntitle: \"fdl.FiddlerApi\"\\nslug: \"client-se...</td>\n",
       "    </tr>\n",
       "    <tr>\n",
       "      <th>1</th>\n",
       "      <td>slug: \"client-setup\"     url=URL,\\n    org_id=...</td>\n",
       "    </tr>\n",
       "    <tr>\n",
       "      <th>2</th>\n",
       "      <td>---\\ntitle: \"Customer Churn Prediction\"\\nslug:...</td>\n",
       "    </tr>\n",
       "    <tr>\n",
       "      <th>3</th>\n",
       "      <td>slug: \"customer-churn-prediction\"  \"https://fi...</td>\n",
       "    </tr>\n",
       "    <tr>\n",
       "      <th>4</th>\n",
       "      <td>slug: \"customer-churn-prediction\" ca-1.png\",\\n...</td>\n",
       "    </tr>\n",
       "    <tr>\n",
       "      <th>...</th>\n",
       "      <td>...</td>\n",
       "    </tr>\n",
       "    <tr>\n",
       "      <th>4153</th>\n",
       "      <td>Currently, only the following fields in [fdl.M...</td>\n",
       "    </tr>\n",
       "    <tr>\n",
       "      <th>4154</th>\n",
       "      <td>AI has been in the limelight thanks to ‌recent...</td>\n",
       "    </tr>\n",
       "    <tr>\n",
       "      <th>4155</th>\n",
       "      <td>LLM means large language model.  A large langu...</td>\n",
       "    </tr>\n",
       "    <tr>\n",
       "      <th>4156</th>\n",
       "      <td>The term generative AI, or GenAI, also is clos...</td>\n",
       "    </tr>\n",
       "    <tr>\n",
       "      <th>4157</th>\n",
       "      <td>FM, or FMs, means Foundation Models.  Foundati...</td>\n",
       "    </tr>\n",
       "  </tbody>\n",
       "</table>\n",
       "<p>4158 rows × 1 columns</p>\n",
       "</div>"
      ],
      "text/plain": [
       "                                                   text\n",
       "0     ---\\ntitle: \"fdl.FiddlerApi\"\\nslug: \"client-se...\n",
       "1     slug: \"client-setup\"     url=URL,\\n    org_id=...\n",
       "2     ---\\ntitle: \"Customer Churn Prediction\"\\nslug:...\n",
       "3     slug: \"customer-churn-prediction\"  \"https://fi...\n",
       "4     slug: \"customer-churn-prediction\" ca-1.png\",\\n...\n",
       "...                                                 ...\n",
       "4153  Currently, only the following fields in [fdl.M...\n",
       "4154  AI has been in the limelight thanks to ‌recent...\n",
       "4155  LLM means large language model.  A large langu...\n",
       "4156  The term generative AI, or GenAI, also is clos...\n",
       "4157  FM, or FMs, means Foundation Models.  Foundati...\n",
       "\n",
       "[4158 rows x 1 columns]"
      ]
     },
     "execution_count": 156,
     "metadata": {},
     "output_type": "execute_result"
    }
   ],
   "source": [
    "#embeddings = generate_embeddings(token_lim_doc)\n",
    "#df = pd.DataFrame({\"text\": chunked_doc, \"embedding\": embeddings})\n",
    "df = pd.DataFrame({\"text\": token_lim_doc})\n",
    "df = pd.concat([df,caveats_df], ignore_index=True)\n",
    "df.to_csv(f'documentation_data/vector_index_feed_{release_num}.csv', index=False)\n",
    "df"
   ]
  },
  {
   "cell_type": "code",
   "execution_count": 157,
   "id": "ae67773d-b69c-4ef6-ade0-0776c9bac982",
   "metadata": {},
   "outputs": [
    {
     "data": {
      "text/html": [
       "<div>\n",
       "<style scoped>\n",
       "    .dataframe tbody tr th:only-of-type {\n",
       "        vertical-align: middle;\n",
       "    }\n",
       "\n",
       "    .dataframe tbody tr th {\n",
       "        vertical-align: top;\n",
       "    }\n",
       "\n",
       "    .dataframe thead th {\n",
       "        text-align: right;\n",
       "    }\n",
       "</style>\n",
       "<table border=\"1\" class=\"dataframe\">\n",
       "  <thead>\n",
       "    <tr style=\"text-align: right;\">\n",
       "      <th></th>\n",
       "      <th>text</th>\n",
       "    </tr>\n",
       "  </thead>\n",
       "  <tbody>\n",
       "    <tr>\n",
       "      <th>3873</th>\n",
       "      <td>BlogLink:https://www.fiddler.ai/blog/managing-...</td>\n",
       "    </tr>\n",
       "    <tr>\n",
       "      <th>3874</th>\n",
       "      <td>BlogLink:https://www.fiddler.ai/blog/fiddler-a...</td>\n",
       "    </tr>\n",
       "    <tr>\n",
       "      <th>3875</th>\n",
       "      <td>BlogLink:https://www.fiddler.ai/blog/building-...</td>\n",
       "    </tr>\n",
       "    <tr>\n",
       "      <th>3876</th>\n",
       "      <td>BlogLink:https://www.fiddler.ai/blog/building-...</td>\n",
       "    </tr>\n",
       "    <tr>\n",
       "      <th>3877</th>\n",
       "      <td>BlogLink:https://www.fiddler.ai/blog/achieve-e...</td>\n",
       "    </tr>\n",
       "    <tr>\n",
       "      <th>...</th>\n",
       "      <td>...</td>\n",
       "    </tr>\n",
       "    <tr>\n",
       "      <th>4046</th>\n",
       "      <td>BlogLink:https://www.fiddler.ai/blog/the-key-r...</td>\n",
       "    </tr>\n",
       "    <tr>\n",
       "      <th>4047</th>\n",
       "      <td>BlogLink:https://www.fiddler.ai/blog/announcin...</td>\n",
       "    </tr>\n",
       "    <tr>\n",
       "      <th>4048</th>\n",
       "      <td>BlogLink:https://www.fiddler.ai/blog/fiddler-r...</td>\n",
       "    </tr>\n",
       "    <tr>\n",
       "      <th>4049</th>\n",
       "      <td>BlogLink:https://www.fiddler.ai/blog/fiddler-r...</td>\n",
       "    </tr>\n",
       "    <tr>\n",
       "      <th>4050</th>\n",
       "      <td>BlogLink:https://www.fiddler.ai/blog/fiddler-l...</td>\n",
       "    </tr>\n",
       "  </tbody>\n",
       "</table>\n",
       "<p>178 rows × 1 columns</p>\n",
       "</div>"
      ],
      "text/plain": [
       "                                                   text\n",
       "3873  BlogLink:https://www.fiddler.ai/blog/managing-...\n",
       "3874  BlogLink:https://www.fiddler.ai/blog/fiddler-a...\n",
       "3875  BlogLink:https://www.fiddler.ai/blog/building-...\n",
       "3876  BlogLink:https://www.fiddler.ai/blog/building-...\n",
       "3877  BlogLink:https://www.fiddler.ai/blog/achieve-e...\n",
       "...                                                 ...\n",
       "4046  BlogLink:https://www.fiddler.ai/blog/the-key-r...\n",
       "4047  BlogLink:https://www.fiddler.ai/blog/announcin...\n",
       "4048  BlogLink:https://www.fiddler.ai/blog/fiddler-r...\n",
       "4049  BlogLink:https://www.fiddler.ai/blog/fiddler-r...\n",
       "4050  BlogLink:https://www.fiddler.ai/blog/fiddler-l...\n",
       "\n",
       "[178 rows x 1 columns]"
      ]
     },
     "execution_count": 157,
     "metadata": {},
     "output_type": "execute_result"
    }
   ],
   "source": [
    "df[df['text'].str.contains('BlogLink', case=False)]"
   ]
  },
  {
   "cell_type": "markdown",
   "id": "ab14794c-c442-4128-8962-40f3e494053e",
   "metadata": {
    "jp-MarkdownHeadingCollapsed": true
   },
   "source": [
    "## Optional Items"
   ]
  },
  {
   "cell_type": "markdown",
   "id": "89d7c976-16d3-47ba-973a-e806151cbdfd",
   "metadata": {
    "jp-MarkdownHeadingCollapsed": true
   },
   "source": [
    "### to clean html text [optional] "
   ]
  },
  {
   "cell_type": "code",
   "execution_count": 158,
   "id": "7f3cb9cd-3cb4-4dce-b2ff-021978a5d937",
   "metadata": {},
   "outputs": [
    {
     "name": "stdout",
     "output_type": "stream",
     "text": [
      "This is HTML text.\n"
     ]
    }
   ],
   "source": [
    "#!pip install beautifulsoup4\n",
    "from bs4 import BeautifulSoup\n",
    "\n",
    "html_text = \"<p>This is <b>HTML</b> text.</p>\"\n",
    "soup = BeautifulSoup(html_text, 'html.parser')\n",
    "clean_text = soup.get_text()\n",
    "print(clean_text)"
   ]
  },
  {
   "cell_type": "markdown",
   "id": "94b37598-2c26-44f3-a931-a9510fcf2a91",
   "metadata": {},
   "source": [
    "### Example of adding a caveat to already existing docs"
   ]
  },
  {
   "cell_type": "code",
   "execution_count": 92,
   "id": "7346a177-a308-4d02-b56c-e924f69c2006",
   "metadata": {},
   "outputs": [],
   "source": [
    "## example 1\n",
    "Caveats = \"\"\"Currently, only the following fields in [fdl.ModelInfo()](ref:fdlmodelinfo) can be updated:\n",
    "> \n",
    "> - `custom_explanation_names`\n",
    "> - `preferred_explanation_method`\n",
    "> - `display_name`\n",
    "> - `description` \"\"\"\n",
    "\n",
    "chunked_doc = [Caveats]"
   ]
  },
  {
   "cell_type": "code",
   "execution_count": 72,
   "id": "83f97a84",
   "metadata": {},
   "outputs": [],
   "source": [
    "## example 2\n",
    "Caveats = \"Once you have added a model on the Fiddler platform using a specific model info object, that is fdl.ModelInfo, you cannot modify aspects such as features, inputs, outputs, model task etc. specified in the model info object. Currently, if you want to change fundamental details about a modelinfo object, then it is advised to create/add a new model with a new modelinfo object.\"\n",
    "chunked_doc = [Caveats]"
   ]
  },
  {
   "cell_type": "markdown",
   "id": "211dea48-86bb-43c3-a976-bfff3f3c0f58",
   "metadata": {
    "jp-MarkdownHeadingCollapsed": true
   },
   "source": [
    "#### Generate Embeddings (You can skip this since we generate embeddings vectors in loader_cassandra notebook)"
   ]
  },
  {
   "cell_type": "code",
   "execution_count": 135,
   "id": "2bc17492-ece6-45e1-96c5-747343d64f9b",
   "metadata": {},
   "outputs": [],
   "source": [
    "openai.api_key = 'ADD YOUR OPENAI KEY'"
   ]
  },
  {
   "cell_type": "code",
   "execution_count": 136,
   "id": "e2307acd-9b22-4d1a-b79e-183bfc27b885",
   "metadata": {},
   "outputs": [],
   "source": [
    "def generate_embeddings(chunked_doc, tiktoken_encoding = \"cl100k_base\", token_limit = 8000):\n",
    "    #global EMBEDDING_MODEL = \"text-embedding-ada-002\"  \n",
    "    encoding = tiktoken.get_encoding(tiktoken_encoding)\n",
    "    embeddings=[]\n",
    "    for i in range(len(chunked_doc)):\n",
    "        fdl_doc_token_list = encoding.encode(chunked_doc[i])\n",
    "        if(len(fdl_doc_token_list)<token_limit):\n",
    "            response = openai.Embedding.create(model=EMBEDDING_MODEL, input=chunked_doc[i])\n",
    "            embeddings.append(response[\"data\"][0][\"embedding\"])\n",
    "    return embeddings"
   ]
  },
  {
   "cell_type": "code",
   "execution_count": 137,
   "id": "96b33fd4-33c9-4524-8fc4-28cb5d7bbd0c",
   "metadata": {
    "scrolled": true
   },
   "outputs": [
    {
     "ename": "RateLimitError",
     "evalue": "You exceeded your current quota, please check your plan and billing details. For more information on this error, read the docs: https://platform.openai.com/docs/guides/error-codes/api-errors.",
     "output_type": "error",
     "traceback": [
      "\u001b[0;31m---------------------------------------------------------------------------\u001b[0m",
      "\u001b[0;31mRateLimitError\u001b[0m                            Traceback (most recent call last)",
      "Cell \u001b[0;32mIn[137], line 1\u001b[0m\n\u001b[0;32m----> 1\u001b[0m embeddings \u001b[38;5;241m=\u001b[39m \u001b[43mgenerate_embeddings\u001b[49m\u001b[43m(\u001b[49m\u001b[43mchunked_doc\u001b[49m\u001b[43m)\u001b[49m\n\u001b[1;32m      2\u001b[0m df \u001b[38;5;241m=\u001b[39m pd\u001b[38;5;241m.\u001b[39mDataFrame({\u001b[38;5;124m\"\u001b[39m\u001b[38;5;124mtext\u001b[39m\u001b[38;5;124m\"\u001b[39m: chunked_doc, \u001b[38;5;124m\"\u001b[39m\u001b[38;5;124membedding\u001b[39m\u001b[38;5;124m\"\u001b[39m: embeddings})\n",
      "Cell \u001b[0;32mIn[136], line 8\u001b[0m, in \u001b[0;36mgenerate_embeddings\u001b[0;34m(chunked_doc, tiktoken_encoding, token_limit)\u001b[0m\n\u001b[1;32m      6\u001b[0m     fdl_doc_token_list \u001b[38;5;241m=\u001b[39m encoding\u001b[38;5;241m.\u001b[39mencode(chunked_doc[i])\n\u001b[1;32m      7\u001b[0m     \u001b[38;5;28;01mif\u001b[39;00m(\u001b[38;5;28mlen\u001b[39m(fdl_doc_token_list)\u001b[38;5;241m<\u001b[39mtoken_limit):\n\u001b[0;32m----> 8\u001b[0m         response \u001b[38;5;241m=\u001b[39m \u001b[43mopenai\u001b[49m\u001b[38;5;241;43m.\u001b[39;49m\u001b[43mEmbedding\u001b[49m\u001b[38;5;241;43m.\u001b[39;49m\u001b[43mcreate\u001b[49m\u001b[43m(\u001b[49m\u001b[43mmodel\u001b[49m\u001b[38;5;241;43m=\u001b[39;49m\u001b[43mEMBEDDING_MODEL\u001b[49m\u001b[43m,\u001b[49m\u001b[43m \u001b[49m\u001b[38;5;28;43minput\u001b[39;49m\u001b[38;5;241;43m=\u001b[39;49m\u001b[43mchunked_doc\u001b[49m\u001b[43m[\u001b[49m\u001b[43mi\u001b[49m\u001b[43m]\u001b[49m\u001b[43m)\u001b[49m\n\u001b[1;32m      9\u001b[0m         embeddings\u001b[38;5;241m.\u001b[39mappend(response[\u001b[38;5;124m\"\u001b[39m\u001b[38;5;124mdata\u001b[39m\u001b[38;5;124m\"\u001b[39m][\u001b[38;5;241m0\u001b[39m][\u001b[38;5;124m\"\u001b[39m\u001b[38;5;124membedding\u001b[39m\u001b[38;5;124m\"\u001b[39m])\n\u001b[1;32m     10\u001b[0m \u001b[38;5;28;01mreturn\u001b[39;00m embeddings\n",
      "File \u001b[0;32m~/Projects/jupyter/lib/python3.10/site-packages/openai/api_resources/embedding.py:33\u001b[0m, in \u001b[0;36mEmbedding.create\u001b[0;34m(cls, *args, **kwargs)\u001b[0m\n\u001b[1;32m     31\u001b[0m \u001b[38;5;28;01mwhile\u001b[39;00m \u001b[38;5;28;01mTrue\u001b[39;00m:\n\u001b[1;32m     32\u001b[0m     \u001b[38;5;28;01mtry\u001b[39;00m:\n\u001b[0;32m---> 33\u001b[0m         response \u001b[38;5;241m=\u001b[39m \u001b[38;5;28;43msuper\u001b[39;49m\u001b[43m(\u001b[49m\u001b[43m)\u001b[49m\u001b[38;5;241;43m.\u001b[39;49m\u001b[43mcreate\u001b[49m\u001b[43m(\u001b[49m\u001b[38;5;241;43m*\u001b[39;49m\u001b[43margs\u001b[49m\u001b[43m,\u001b[49m\u001b[43m \u001b[49m\u001b[38;5;241;43m*\u001b[39;49m\u001b[38;5;241;43m*\u001b[39;49m\u001b[43mkwargs\u001b[49m\u001b[43m)\u001b[49m\n\u001b[1;32m     35\u001b[0m         \u001b[38;5;66;03m# If a user specifies base64, we'll just return the encoded string.\u001b[39;00m\n\u001b[1;32m     36\u001b[0m         \u001b[38;5;66;03m# This is only for the default case.\u001b[39;00m\n\u001b[1;32m     37\u001b[0m         \u001b[38;5;28;01mif\u001b[39;00m \u001b[38;5;129;01mnot\u001b[39;00m user_provided_encoding_format:\n",
      "File \u001b[0;32m~/Projects/jupyter/lib/python3.10/site-packages/openai/api_resources/abstract/engine_api_resource.py:155\u001b[0m, in \u001b[0;36mEngineAPIResource.create\u001b[0;34m(cls, api_key, api_base, api_type, request_id, api_version, organization, **params)\u001b[0m\n\u001b[1;32m    129\u001b[0m \u001b[38;5;129m@classmethod\u001b[39m\n\u001b[1;32m    130\u001b[0m \u001b[38;5;28;01mdef\u001b[39;00m \u001b[38;5;21mcreate\u001b[39m(\n\u001b[1;32m    131\u001b[0m     \u001b[38;5;28mcls\u001b[39m,\n\u001b[0;32m   (...)\u001b[0m\n\u001b[1;32m    138\u001b[0m     \u001b[38;5;241m*\u001b[39m\u001b[38;5;241m*\u001b[39mparams,\n\u001b[1;32m    139\u001b[0m ):\n\u001b[1;32m    140\u001b[0m     (\n\u001b[1;32m    141\u001b[0m         deployment_id,\n\u001b[1;32m    142\u001b[0m         engine,\n\u001b[0;32m   (...)\u001b[0m\n\u001b[1;32m    152\u001b[0m         api_key, api_base, api_type, api_version, organization, \u001b[38;5;241m*\u001b[39m\u001b[38;5;241m*\u001b[39mparams\n\u001b[1;32m    153\u001b[0m     )\n\u001b[0;32m--> 155\u001b[0m     response, _, api_key \u001b[38;5;241m=\u001b[39m \u001b[43mrequestor\u001b[49m\u001b[38;5;241;43m.\u001b[39;49m\u001b[43mrequest\u001b[49m\u001b[43m(\u001b[49m\n\u001b[1;32m    156\u001b[0m \u001b[43m        \u001b[49m\u001b[38;5;124;43m\"\u001b[39;49m\u001b[38;5;124;43mpost\u001b[39;49m\u001b[38;5;124;43m\"\u001b[39;49m\u001b[43m,\u001b[49m\n\u001b[1;32m    157\u001b[0m \u001b[43m        \u001b[49m\u001b[43murl\u001b[49m\u001b[43m,\u001b[49m\n\u001b[1;32m    158\u001b[0m \u001b[43m        \u001b[49m\u001b[43mparams\u001b[49m\u001b[38;5;241;43m=\u001b[39;49m\u001b[43mparams\u001b[49m\u001b[43m,\u001b[49m\n\u001b[1;32m    159\u001b[0m \u001b[43m        \u001b[49m\u001b[43mheaders\u001b[49m\u001b[38;5;241;43m=\u001b[39;49m\u001b[43mheaders\u001b[49m\u001b[43m,\u001b[49m\n\u001b[1;32m    160\u001b[0m \u001b[43m        \u001b[49m\u001b[43mstream\u001b[49m\u001b[38;5;241;43m=\u001b[39;49m\u001b[43mstream\u001b[49m\u001b[43m,\u001b[49m\n\u001b[1;32m    161\u001b[0m \u001b[43m        \u001b[49m\u001b[43mrequest_id\u001b[49m\u001b[38;5;241;43m=\u001b[39;49m\u001b[43mrequest_id\u001b[49m\u001b[43m,\u001b[49m\n\u001b[1;32m    162\u001b[0m \u001b[43m        \u001b[49m\u001b[43mrequest_timeout\u001b[49m\u001b[38;5;241;43m=\u001b[39;49m\u001b[43mrequest_timeout\u001b[49m\u001b[43m,\u001b[49m\n\u001b[1;32m    163\u001b[0m \u001b[43m    \u001b[49m\u001b[43m)\u001b[49m\n\u001b[1;32m    165\u001b[0m     \u001b[38;5;28;01mif\u001b[39;00m stream:\n\u001b[1;32m    166\u001b[0m         \u001b[38;5;66;03m# must be an iterator\u001b[39;00m\n\u001b[1;32m    167\u001b[0m         \u001b[38;5;28;01massert\u001b[39;00m \u001b[38;5;129;01mnot\u001b[39;00m \u001b[38;5;28misinstance\u001b[39m(response, OpenAIResponse)\n",
      "File \u001b[0;32m~/Projects/jupyter/lib/python3.10/site-packages/openai/api_requestor.py:299\u001b[0m, in \u001b[0;36mAPIRequestor.request\u001b[0;34m(self, method, url, params, headers, files, stream, request_id, request_timeout)\u001b[0m\n\u001b[1;32m    278\u001b[0m \u001b[38;5;28;01mdef\u001b[39;00m \u001b[38;5;21mrequest\u001b[39m(\n\u001b[1;32m    279\u001b[0m     \u001b[38;5;28mself\u001b[39m,\n\u001b[1;32m    280\u001b[0m     method,\n\u001b[0;32m   (...)\u001b[0m\n\u001b[1;32m    287\u001b[0m     request_timeout: Optional[Union[\u001b[38;5;28mfloat\u001b[39m, Tuple[\u001b[38;5;28mfloat\u001b[39m, \u001b[38;5;28mfloat\u001b[39m]]] \u001b[38;5;241m=\u001b[39m \u001b[38;5;28;01mNone\u001b[39;00m,\n\u001b[1;32m    288\u001b[0m ) \u001b[38;5;241m-\u001b[39m\u001b[38;5;241m>\u001b[39m Tuple[Union[OpenAIResponse, Iterator[OpenAIResponse]], \u001b[38;5;28mbool\u001b[39m, \u001b[38;5;28mstr\u001b[39m]:\n\u001b[1;32m    289\u001b[0m     result \u001b[38;5;241m=\u001b[39m \u001b[38;5;28mself\u001b[39m\u001b[38;5;241m.\u001b[39mrequest_raw(\n\u001b[1;32m    290\u001b[0m         method\u001b[38;5;241m.\u001b[39mlower(),\n\u001b[1;32m    291\u001b[0m         url,\n\u001b[0;32m   (...)\u001b[0m\n\u001b[1;32m    297\u001b[0m         request_timeout\u001b[38;5;241m=\u001b[39mrequest_timeout,\n\u001b[1;32m    298\u001b[0m     )\n\u001b[0;32m--> 299\u001b[0m     resp, got_stream \u001b[38;5;241m=\u001b[39m \u001b[38;5;28;43mself\u001b[39;49m\u001b[38;5;241;43m.\u001b[39;49m\u001b[43m_interpret_response\u001b[49m\u001b[43m(\u001b[49m\u001b[43mresult\u001b[49m\u001b[43m,\u001b[49m\u001b[43m \u001b[49m\u001b[43mstream\u001b[49m\u001b[43m)\u001b[49m\n\u001b[1;32m    300\u001b[0m     \u001b[38;5;28;01mreturn\u001b[39;00m resp, got_stream, \u001b[38;5;28mself\u001b[39m\u001b[38;5;241m.\u001b[39mapi_key\n",
      "File \u001b[0;32m~/Projects/jupyter/lib/python3.10/site-packages/openai/api_requestor.py:710\u001b[0m, in \u001b[0;36mAPIRequestor._interpret_response\u001b[0;34m(self, result, stream)\u001b[0m\n\u001b[1;32m    702\u001b[0m     \u001b[38;5;28;01mreturn\u001b[39;00m (\n\u001b[1;32m    703\u001b[0m         \u001b[38;5;28mself\u001b[39m\u001b[38;5;241m.\u001b[39m_interpret_response_line(\n\u001b[1;32m    704\u001b[0m             line, result\u001b[38;5;241m.\u001b[39mstatus_code, result\u001b[38;5;241m.\u001b[39mheaders, stream\u001b[38;5;241m=\u001b[39m\u001b[38;5;28;01mTrue\u001b[39;00m\n\u001b[1;32m    705\u001b[0m         )\n\u001b[1;32m    706\u001b[0m         \u001b[38;5;28;01mfor\u001b[39;00m line \u001b[38;5;129;01min\u001b[39;00m parse_stream(result\u001b[38;5;241m.\u001b[39miter_lines())\n\u001b[1;32m    707\u001b[0m     ), \u001b[38;5;28;01mTrue\u001b[39;00m\n\u001b[1;32m    708\u001b[0m \u001b[38;5;28;01melse\u001b[39;00m:\n\u001b[1;32m    709\u001b[0m     \u001b[38;5;28;01mreturn\u001b[39;00m (\n\u001b[0;32m--> 710\u001b[0m         \u001b[38;5;28;43mself\u001b[39;49m\u001b[38;5;241;43m.\u001b[39;49m\u001b[43m_interpret_response_line\u001b[49m\u001b[43m(\u001b[49m\n\u001b[1;32m    711\u001b[0m \u001b[43m            \u001b[49m\u001b[43mresult\u001b[49m\u001b[38;5;241;43m.\u001b[39;49m\u001b[43mcontent\u001b[49m\u001b[38;5;241;43m.\u001b[39;49m\u001b[43mdecode\u001b[49m\u001b[43m(\u001b[49m\u001b[38;5;124;43m\"\u001b[39;49m\u001b[38;5;124;43mutf-8\u001b[39;49m\u001b[38;5;124;43m\"\u001b[39;49m\u001b[43m)\u001b[49m\u001b[43m,\u001b[49m\n\u001b[1;32m    712\u001b[0m \u001b[43m            \u001b[49m\u001b[43mresult\u001b[49m\u001b[38;5;241;43m.\u001b[39;49m\u001b[43mstatus_code\u001b[49m\u001b[43m,\u001b[49m\n\u001b[1;32m    713\u001b[0m \u001b[43m            \u001b[49m\u001b[43mresult\u001b[49m\u001b[38;5;241;43m.\u001b[39;49m\u001b[43mheaders\u001b[49m\u001b[43m,\u001b[49m\n\u001b[1;32m    714\u001b[0m \u001b[43m            \u001b[49m\u001b[43mstream\u001b[49m\u001b[38;5;241;43m=\u001b[39;49m\u001b[38;5;28;43;01mFalse\u001b[39;49;00m\u001b[43m,\u001b[49m\n\u001b[1;32m    715\u001b[0m \u001b[43m        \u001b[49m\u001b[43m)\u001b[49m,\n\u001b[1;32m    716\u001b[0m         \u001b[38;5;28;01mFalse\u001b[39;00m,\n\u001b[1;32m    717\u001b[0m     )\n",
      "File \u001b[0;32m~/Projects/jupyter/lib/python3.10/site-packages/openai/api_requestor.py:775\u001b[0m, in \u001b[0;36mAPIRequestor._interpret_response_line\u001b[0;34m(self, rbody, rcode, rheaders, stream)\u001b[0m\n\u001b[1;32m    773\u001b[0m stream_error \u001b[38;5;241m=\u001b[39m stream \u001b[38;5;129;01mand\u001b[39;00m \u001b[38;5;124m\"\u001b[39m\u001b[38;5;124merror\u001b[39m\u001b[38;5;124m\"\u001b[39m \u001b[38;5;129;01min\u001b[39;00m resp\u001b[38;5;241m.\u001b[39mdata\n\u001b[1;32m    774\u001b[0m \u001b[38;5;28;01mif\u001b[39;00m stream_error \u001b[38;5;129;01mor\u001b[39;00m \u001b[38;5;129;01mnot\u001b[39;00m \u001b[38;5;241m200\u001b[39m \u001b[38;5;241m<\u001b[39m\u001b[38;5;241m=\u001b[39m rcode \u001b[38;5;241m<\u001b[39m \u001b[38;5;241m300\u001b[39m:\n\u001b[0;32m--> 775\u001b[0m     \u001b[38;5;28;01mraise\u001b[39;00m \u001b[38;5;28mself\u001b[39m\u001b[38;5;241m.\u001b[39mhandle_error_response(\n\u001b[1;32m    776\u001b[0m         rbody, rcode, resp\u001b[38;5;241m.\u001b[39mdata, rheaders, stream_error\u001b[38;5;241m=\u001b[39mstream_error\n\u001b[1;32m    777\u001b[0m     )\n\u001b[1;32m    778\u001b[0m \u001b[38;5;28;01mreturn\u001b[39;00m resp\n",
      "\u001b[0;31mRateLimitError\u001b[0m: You exceeded your current quota, please check your plan and billing details. For more information on this error, read the docs: https://platform.openai.com/docs/guides/error-codes/api-errors."
     ]
    }
   ],
   "source": [
    "embeddings = generate_embeddings(chunked_doc)\n",
    "df = pd.DataFrame({\"text\": chunked_doc, \"embedding\": embeddings})"
   ]
  },
  {
   "cell_type": "code",
   "execution_count": 61,
   "id": "adfe9394-aae8-4c56-b90a-ff8ae8dab318",
   "metadata": {},
   "outputs": [
    {
     "data": {
      "text/html": [
       "<div>\n",
       "<style scoped>\n",
       "    .dataframe tbody tr th:only-of-type {\n",
       "        vertical-align: middle;\n",
       "    }\n",
       "\n",
       "    .dataframe tbody tr th {\n",
       "        vertical-align: top;\n",
       "    }\n",
       "\n",
       "    .dataframe thead th {\n",
       "        text-align: right;\n",
       "    }\n",
       "</style>\n",
       "<table border=\"1\" class=\"dataframe\">\n",
       "  <thead>\n",
       "    <tr style=\"text-align: right;\">\n",
       "      <th></th>\n",
       "      <th>text</th>\n",
       "      <th>embedding</th>\n",
       "    </tr>\n",
       "  </thead>\n",
       "  <tbody>\n",
       "    <tr>\n",
       "      <th>0</th>\n",
       "      <td>Once you have added a model on the Fiddler pla...</td>\n",
       "      <td>[-0.022211669012904167, 0.011368612758815289, ...</td>\n",
       "    </tr>\n",
       "  </tbody>\n",
       "</table>\n",
       "</div>"
      ],
      "text/plain": [
       "                                                text  \\\n",
       "0  Once you have added a model on the Fiddler pla...   \n",
       "\n",
       "                                           embedding  \n",
       "0  [-0.022211669012904167, 0.011368612758815289, ...  "
      ]
     },
     "execution_count": 61,
     "metadata": {},
     "output_type": "execute_result"
    }
   ],
   "source": [
    "df"
   ]
  },
  {
   "cell_type": "markdown",
   "id": "ddeebce1-f878-43ed-b8ac-92ec5138255e",
   "metadata": {
    "jp-MarkdownHeadingCollapsed": true
   },
   "source": [
    "### finding urls"
   ]
  },
  {
   "cell_type": "code",
   "execution_count": 26,
   "id": "1a8afb60",
   "metadata": {},
   "outputs": [],
   "source": [
    "text = \"\"\"Fiddler's role in the ML lifecycle is to monitor, explain, analyze, and improve ML deployments at enterprise scale.\n",
    "It provides contextual insights at any stage of the ML lifecycle, helps improve predictions, increases transparency and fairness, \n",
    "and optimizes business revenue. \n",
    "Reference: [Fiddler Simple Monitoring Quick Start Guide](https://docs.fiddler.ai/docs/Fiddler_Quickstart_Simple_Monitoring)\"\"\""
   ]
  },
  {
   "cell_type": "code",
   "execution_count": 27,
   "id": "055bfb0a",
   "metadata": {},
   "outputs": [
    {
     "ename": "NameError",
     "evalue": "name 'url_pattern' is not defined",
     "output_type": "error",
     "traceback": [
      "\u001b[0;31m---------------------------------------------------------------------------\u001b[0m",
      "\u001b[0;31mNameError\u001b[0m                                 Traceback (most recent call last)",
      "Cell \u001b[0;32mIn[27], line 1\u001b[0m\n\u001b[0;32m----> 1\u001b[0m urls \u001b[38;5;241m=\u001b[39m re\u001b[38;5;241m.\u001b[39mfindall(\u001b[43murl_pattern\u001b[49m, text)\n",
      "\u001b[0;31mNameError\u001b[0m: name 'url_pattern' is not defined"
     ]
    }
   ],
   "source": [
    "urls = re.findall(url_pattern, text)"
   ]
  },
  {
   "cell_type": "code",
   "execution_count": 28,
   "id": "b7a4370c",
   "metadata": {},
   "outputs": [
    {
     "ename": "NameError",
     "evalue": "name 'urls' is not defined",
     "output_type": "error",
     "traceback": [
      "\u001b[0;31m---------------------------------------------------------------------------\u001b[0m",
      "\u001b[0;31mNameError\u001b[0m                                 Traceback (most recent call last)",
      "Cell \u001b[0;32mIn[28], line 1\u001b[0m\n\u001b[0;32m----> 1\u001b[0m \u001b[43murls\u001b[49m\n",
      "\u001b[0;31mNameError\u001b[0m: name 'urls' is not defined"
     ]
    }
   ],
   "source": [
    "urls"
   ]
  },
  {
   "cell_type": "code",
   "execution_count": null,
   "id": "0942c6c3-c882-468c-ab99-5e257395546d",
   "metadata": {},
   "outputs": [],
   "source": []
  }
 ],
 "metadata": {
  "kernelspec": {
   "display_name": "Python 3 (ipykernel)",
   "language": "python",
   "name": "python3"
  },
  "language_info": {
   "codemirror_mode": {
    "name": "ipython",
    "version": 3
   },
   "file_extension": ".py",
   "mimetype": "text/x-python",
   "name": "python",
   "nbconvert_exporter": "python",
   "pygments_lexer": "ipython3",
   "version": "3.10.13"
  }
 },
 "nbformat": 4,
 "nbformat_minor": 5
}
