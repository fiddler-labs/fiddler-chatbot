{
 "cells": [
  {
   "cell_type": "code",
   "execution_count": 1,
   "id": "de0d09d3",
   "metadata": {},
   "outputs": [],
   "source": [
    "import os"
   ]
  },
  {
   "cell_type": "code",
   "execution_count": 2,
   "id": "44c509b2",
   "metadata": {},
   "outputs": [],
   "source": [
    "from langchain_core.tools import tool"
   ]
  },
  {
   "cell_type": "code",
   "execution_count": 3,
   "id": "2988147f",
   "metadata": {},
   "outputs": [],
   "source": [
    "from langchain_openai import ChatOpenAI"
   ]
  },
  {
   "cell_type": "code",
   "execution_count": 4,
   "id": "caddf59b",
   "metadata": {},
   "outputs": [],
   "source": [
    "from dotenv import load_dotenv"
   ]
  },
  {
   "cell_type": "code",
   "execution_count": null,
   "id": "08dc2c61",
   "metadata": {},
   "outputs": [
    {
     "name": "stdout",
     "output_type": "stream",
     "text": [
      "✅ Successfully imported basic Cassandra components\n",
      "✅ LibevConnection available\n",
      "✅ AsyncoreConnection available\n",
      "⚠️  EventletConnection not available: No module named 'eventlet'\n",
      "⚠️  TwistedConnection not available: No module named 'twisted'\n",
      "✅ Using connection class: LibevConnection\n",
      "✅ Cassandra compatibility setup complete\n",
      "Application logs will be written to: logs/log_20250801_165431.log\n"
     ]
    }
   ],
   "source": [
    "from agentic_tools.rag import cassandra_search_function as search_function"
   ]
  },
  {
   "cell_type": "code",
   "execution_count": 6,
   "id": "9e5a9bc1",
   "metadata": {},
   "outputs": [
    {
     "data": {
      "text/plain": [
       "True"
      ]
     },
     "execution_count": 6,
     "metadata": {},
     "output_type": "execute_result"
    }
   ],
   "source": [
    "load_dotenv()"
   ]
  },
  {
   "cell_type": "code",
   "execution_count": 7,
   "id": "3739c653",
   "metadata": {},
   "outputs": [],
   "source": [
    "llm = ChatOpenAI(\n",
    "    model='gpt-4o-mini',\n",
    "    api_key=os.getenv('OPENAI_API_KEY')\n",
    ")"
   ]
  },
  {
   "cell_type": "code",
   "execution_count": 8,
   "id": "a44db0e8",
   "metadata": {},
   "outputs": [],
   "source": [
    "@tool\n",
    "def fdl_search(query: str) -> str:\n",
    "    \"\"\"\n",
    "    Search and return information regarding Fiddler and it's uses\n",
    "    \"\"\"\n",
    "    return search_function(query)"
   ]
  },
  {
   "cell_type": "code",
   "execution_count": 9,
   "id": "ca3f8f0c",
   "metadata": {},
   "outputs": [],
   "source": [
    "tools = [search_function]"
   ]
  },
  {
   "cell_type": "code",
   "execution_count": 10,
   "id": "b430e77c",
   "metadata": {},
   "outputs": [],
   "source": [
    "llm_with_tools = llm.bind_tools(tools)"
   ]
  },
  {
   "cell_type": "code",
   "execution_count": 11,
   "id": "f662ae37",
   "metadata": {},
   "outputs": [],
   "source": [
    "res = llm_with_tools.invoke(\"What is Fiddler's latest release?\")"
   ]
  },
  {
   "cell_type": "code",
   "execution_count": 12,
   "id": "6c6843fc",
   "metadata": {},
   "outputs": [
    {
     "data": {
      "text/plain": [
       "AIMessage(content='', additional_kwargs={'tool_calls': [{'id': 'call_ro2gEZ2xfqi1mNAq9L1DifGb', 'function': {'arguments': '{\"query\":\"Fiddler latest release\"}', 'name': '_cassandra_search_function'}, 'type': 'function'}], 'refusal': None}, response_metadata={'token_usage': {'completion_tokens': 21, 'prompt_tokens': 72, 'total_tokens': 93, 'completion_tokens_details': {'accepted_prediction_tokens': 0, 'audio_tokens': 0, 'reasoning_tokens': 0, 'rejected_prediction_tokens': 0}, 'prompt_tokens_details': {'audio_tokens': 0, 'cached_tokens': 0}}, 'model_name': 'gpt-4o-mini-2024-07-18', 'system_fingerprint': 'fp_34a54ae93c', 'id': 'chatcmpl-BziACTtC2OgEnlTwqmIafbPzvvxJY', 'service_tier': 'default', 'finish_reason': 'tool_calls', 'logprobs': None}, id='run--e990b4f9-7951-41fe-8013-68026a0bb016-0', tool_calls=[{'name': '_cassandra_search_function', 'args': {'query': 'Fiddler latest release'}, 'id': 'call_ro2gEZ2xfqi1mNAq9L1DifGb', 'type': 'tool_call'}], usage_metadata={'input_tokens': 72, 'output_tokens': 21, 'total_tokens': 93, 'input_token_details': {'audio': 0, 'cache_read': 0}, 'output_token_details': {'audio': 0, 'reasoning': 0}})"
      ]
     },
     "execution_count": 12,
     "metadata": {},
     "output_type": "execute_result"
    }
   ],
   "source": [
    "res"
   ]
  },
  {
   "cell_type": "code",
   "execution_count": 17,
   "id": "43d7b28c",
   "metadata": {},
   "outputs": [
    {
     "data": {
      "text/plain": [
       "[{'name': '_cassandra_search_function',\n",
       "  'args': {'query': 'Fiddler latest release'},\n",
       "  'id': 'call_ro2gEZ2xfqi1mNAq9L1DifGb',\n",
       "  'type': 'tool_call'}]"
      ]
     },
     "execution_count": 17,
     "metadata": {},
     "output_type": "execute_result"
    }
   ],
   "source": [
    "res.tool_calls\n",
    "\n"
   ]
  },
  {
   "cell_type": "code",
   "execution_count": null,
   "id": "cea8bdc6",
   "metadata": {},
   "outputs": [],
   "source": []
  },
  {
   "cell_type": "code",
   "execution_count": 14,
   "id": "b59693aa",
   "metadata": {},
   "outputs": [
    {
     "name": "stderr",
     "output_type": "stream",
     "text": [
      "2025-08-01 16:54:33,742 -  WARNING -  143 - vector_index_mgmt - vector_index_mgmt - cassandra_connection - ⚠️  Connection attempt 1/3 failed: Secure bundle file not found: datastax_auth/secure-connect-fiddlerai.zip\n",
      "2025-08-01 16:54:35,744 -  WARNING -  143 - vector_index_mgmt - vector_index_mgmt - cassandra_connection - ⚠️  Connection attempt 2/3 failed: Secure bundle file not found: datastax_auth/secure-connect-fiddlerai.zip\n",
      "2025-08-01 16:54:39,750 -    ERROR -  140 - vector_index_mgmt - vector_index_mgmt - cassandra_connection - ❌ Failed to connect to Cassandra after 3 attempts\n",
      "2025-08-01 16:54:39,751 -    ERROR -   47 - agentic_tools.rag - rag - _cassandra_search_function - Error in Cassandra search: Secure bundle file not found: datastax_auth/secure-connect-fiddlerai.zip\n"
     ]
    },
    {
     "data": {
      "text/plain": [
       "'Error: Secure bundle file not found: datastax_auth/secure-connect-fiddlerai.zip\\n Please fix your mistakes.'"
      ]
     },
     "execution_count": 14,
     "metadata": {},
     "output_type": "execute_result"
    }
   ],
   "source": [
    "fdl_search.invoke({\"query\": \"What is Fiddler?\"})"
   ]
  },
  {
   "cell_type": "code",
   "execution_count": 16,
   "id": "2aa031b1",
   "metadata": {},
   "outputs": [
    {
     "name": "stderr",
     "output_type": "stream",
     "text": [
      "2025-08-01 16:54:46,507 -  WARNING -  143 - vector_index_mgmt - vector_index_mgmt - cassandra_connection - ⚠️  Connection attempt 1/3 failed: Secure bundle file not found: datastax_auth/secure-connect-fiddlerai.zip\n",
      "2025-08-01 16:54:48,513 -  WARNING -  143 - vector_index_mgmt - vector_index_mgmt - cassandra_connection - ⚠️  Connection attempt 2/3 failed: Secure bundle file not found: datastax_auth/secure-connect-fiddlerai.zip\n",
      "2025-08-01 16:54:52,521 -    ERROR -  140 - vector_index_mgmt - vector_index_mgmt - cassandra_connection - ❌ Failed to connect to Cassandra after 3 attempts\n",
      "2025-08-01 16:54:52,523 -    ERROR -   47 - agentic_tools.rag - rag - _cassandra_search_function - Error in Cassandra search: Secure bundle file not found: datastax_auth/secure-connect-fiddlerai.zip\n"
     ]
    },
    {
     "data": {
      "text/plain": [
       "'Error: Secure bundle file not found: datastax_auth/secure-connect-fiddlerai.zip\\n Please fix your mistakes.'"
      ]
     },
     "execution_count": 16,
     "metadata": {},
     "output_type": "execute_result"
    }
   ],
   "source": [
    "fdl_search.invoke(res.tool_calls[0]['args'])"
   ]
  },
  {
   "cell_type": "code",
   "execution_count": null,
   "id": "6751db66",
   "metadata": {},
   "outputs": [],
   "source": []
  }
 ],
 "metadata": {
  "kernelspec": {
   "display_name": ".venv (3.11.10)",
   "language": "python",
   "name": "python3"
  },
  "language_info": {
   "codemirror_mode": {
    "name": "ipython",
    "version": 3
   },
   "file_extension": ".py",
   "mimetype": "text/x-python",
   "name": "python",
   "nbconvert_exporter": "python",
   "pygments_lexer": "ipython3",
   "version": "3.11.10"
  }
 },
 "nbformat": 4,
 "nbformat_minor": 5
}
