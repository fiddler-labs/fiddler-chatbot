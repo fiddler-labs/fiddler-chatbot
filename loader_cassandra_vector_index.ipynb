{
 "cells": [
  {
   "cell_type": "code",
   "execution_count": null,
   "id": "4e4692e2-db8d-49d4-939b-c169ea805eaf",
   "metadata": {},
   "outputs": [],
   "source": [
    "!pip install cassandra-driver"
   ]
  },
  {
   "cell_type": "code",
   "execution_count": null,
   "id": "d6bd0fbb-d55c-46bc-86da-dc4c2cbfdf1a",
   "metadata": {},
   "outputs": [],
   "source": [
    "#!pip install fiddler-client==2.1.0"
   ]
  },
  {
   "cell_type": "code",
   "execution_count": 14,
   "id": "1eafdb91-e921-409b-b46d-815827ed668f",
   "metadata": {},
   "outputs": [
    {
     "name": "stdout",
     "output_type": "stream",
     "text": [
      "Requirement already satisfied: langchain in /Users/danielbrock/opt/anaconda3/lib/python3.8/site-packages (0.0.339)\n",
      "Requirement already satisfied: PyYAML>=5.3 in /Users/danielbrock/opt/anaconda3/lib/python3.8/site-packages (from langchain) (6.0.1)\n",
      "Requirement already satisfied: SQLAlchemy<3,>=1.4 in /Users/danielbrock/opt/anaconda3/lib/python3.8/site-packages (from langchain) (2.0.23)\n",
      "Requirement already satisfied: aiohttp<4.0.0,>=3.8.3 in /Users/danielbrock/opt/anaconda3/lib/python3.8/site-packages (from langchain) (3.8.5)\n",
      "Requirement already satisfied: anyio<4.0 in /Users/danielbrock/opt/anaconda3/lib/python3.8/site-packages (from langchain) (3.7.1)\n",
      "Requirement already satisfied: async-timeout<5.0.0,>=4.0.0 in /Users/danielbrock/opt/anaconda3/lib/python3.8/site-packages (from langchain) (4.0.2)\n",
      "Requirement already satisfied: dataclasses-json<0.7,>=0.5.7 in /Users/danielbrock/opt/anaconda3/lib/python3.8/site-packages (from langchain) (0.5.14)\n",
      "Requirement already satisfied: jsonpatch<2.0,>=1.33 in /Users/danielbrock/opt/anaconda3/lib/python3.8/site-packages (from langchain) (1.33)\n",
      "Requirement already satisfied: langsmith<0.1.0,>=0.0.63 in /Users/danielbrock/opt/anaconda3/lib/python3.8/site-packages (from langchain) (0.0.66)\n",
      "Requirement already satisfied: numpy<2,>=1 in /Users/danielbrock/opt/anaconda3/lib/python3.8/site-packages (from langchain) (1.22.4)\n",
      "Requirement already satisfied: pydantic<3,>=1 in /Users/danielbrock/opt/anaconda3/lib/python3.8/site-packages (from langchain) (1.10.11)\n",
      "Requirement already satisfied: requests<3,>=2 in /Users/danielbrock/opt/anaconda3/lib/python3.8/site-packages (from langchain) (2.31.0)\n",
      "Requirement already satisfied: tenacity<9.0.0,>=8.1.0 in /Users/danielbrock/opt/anaconda3/lib/python3.8/site-packages (from langchain) (8.1.0)\n",
      "Requirement already satisfied: attrs>=17.3.0 in /Users/danielbrock/opt/anaconda3/lib/python3.8/site-packages (from aiohttp<4.0.0,>=3.8.3->langchain) (23.1.0)\n",
      "Requirement already satisfied: charset-normalizer<4.0,>=2.0 in /Users/danielbrock/opt/anaconda3/lib/python3.8/site-packages (from aiohttp<4.0.0,>=3.8.3->langchain) (2.1.1)\n",
      "Requirement already satisfied: multidict<7.0,>=4.5 in /Users/danielbrock/opt/anaconda3/lib/python3.8/site-packages (from aiohttp<4.0.0,>=3.8.3->langchain) (6.0.2)\n",
      "Requirement already satisfied: yarl<2.0,>=1.0 in /Users/danielbrock/opt/anaconda3/lib/python3.8/site-packages (from aiohttp<4.0.0,>=3.8.3->langchain) (1.8.1)\n",
      "Requirement already satisfied: frozenlist>=1.1.1 in /Users/danielbrock/opt/anaconda3/lib/python3.8/site-packages (from aiohttp<4.0.0,>=3.8.3->langchain) (1.3.1)\n",
      "Requirement already satisfied: aiosignal>=1.1.2 in /Users/danielbrock/opt/anaconda3/lib/python3.8/site-packages (from aiohttp<4.0.0,>=3.8.3->langchain) (1.2.0)\n",
      "Requirement already satisfied: idna>=2.8 in /Users/danielbrock/opt/anaconda3/lib/python3.8/site-packages (from anyio<4.0->langchain) (2.10)\n",
      "Requirement already satisfied: sniffio>=1.1 in /Users/danielbrock/opt/anaconda3/lib/python3.8/site-packages (from anyio<4.0->langchain) (1.2.0)\n",
      "Requirement already satisfied: exceptiongroup in /Users/danielbrock/opt/anaconda3/lib/python3.8/site-packages (from anyio<4.0->langchain) (1.1.3)\n",
      "Requirement already satisfied: marshmallow<4.0.0,>=3.18.0 in /Users/danielbrock/opt/anaconda3/lib/python3.8/site-packages (from dataclasses-json<0.7,>=0.5.7->langchain) (3.20.1)\n",
      "Requirement already satisfied: typing-inspect<1,>=0.4.0 in /Users/danielbrock/opt/anaconda3/lib/python3.8/site-packages (from dataclasses-json<0.7,>=0.5.7->langchain) (0.8.0)\n",
      "Requirement already satisfied: jsonpointer>=1.9 in /Users/danielbrock/opt/anaconda3/lib/python3.8/site-packages (from jsonpatch<2.0,>=1.33->langchain) (2.4)\n",
      "Requirement already satisfied: typing-extensions>=4.2.0 in /Users/danielbrock/opt/anaconda3/lib/python3.8/site-packages (from pydantic<3,>=1->langchain) (4.5.0)\n",
      "Requirement already satisfied: urllib3<3,>=1.21.1 in /Users/danielbrock/opt/anaconda3/lib/python3.8/site-packages (from requests<3,>=2->langchain) (1.26.18)\n",
      "Requirement already satisfied: certifi>=2017.4.17 in /Users/danielbrock/opt/anaconda3/lib/python3.8/site-packages (from requests<3,>=2->langchain) (2020.12.5)\n",
      "Requirement already satisfied: greenlet!=0.4.17 in /Users/danielbrock/opt/anaconda3/lib/python3.8/site-packages (from SQLAlchemy<3,>=1.4->langchain) (1.0.0)\n",
      "Requirement already satisfied: packaging>=17.0 in /Users/danielbrock/opt/anaconda3/lib/python3.8/site-packages (from marshmallow<4.0.0,>=3.18.0->dataclasses-json<0.7,>=0.5.7->langchain) (23.2)\n",
      "Requirement already satisfied: mypy-extensions>=0.3.0 in /Users/danielbrock/opt/anaconda3/lib/python3.8/site-packages (from typing-inspect<1,>=0.4.0->dataclasses-json<0.7,>=0.5.7->langchain) (0.4.3)\n",
      "\u001b[33mDEPRECATION: pyodbc 4.0.0-unsupported has a non-standard version number. pip 24.0 will enforce this behaviour change. A possible replacement is to upgrade to a newer version of pyodbc or contact the author to suggest that they release a version with a conforming version number. Discussion can be found at https://github.com/pypa/pip/issues/12063\u001b[0m\u001b[33m\n",
      "\u001b[0m"
     ]
    }
   ],
   "source": [
    "!pip install langchain"
   ]
  },
  {
   "cell_type": "code",
   "execution_count": 10,
   "id": "2c53e01e-af3a-42f0-b73b-b14b96b9cf53",
   "metadata": {},
   "outputs": [
    {
     "name": "stdout",
     "output_type": "stream",
     "text": [
      "Requirement already satisfied: typing-inspect==0.8.0 in /Users/danielbrock/opt/anaconda3/lib/python3.8/site-packages (0.8.0)\n",
      "Collecting typing_extensions==4.5.0\n",
      "  Using cached typing_extensions-4.5.0-py3-none-any.whl (27 kB)\n",
      "Requirement already satisfied: mypy-extensions>=0.3.0 in /Users/danielbrock/opt/anaconda3/lib/python3.8/site-packages (from typing-inspect==0.8.0) (0.4.3)\n",
      "\u001b[33mDEPRECATION: pyodbc 4.0.0-unsupported has a non-standard version number. pip 24.0 will enforce this behaviour change. A possible replacement is to upgrade to a newer version of pyodbc or contact the author to suggest that they release a version with a conforming version number. Discussion can be found at https://github.com/pypa/pip/issues/12063\u001b[0m\u001b[33m\n",
      "\u001b[0mInstalling collected packages: typing_extensions\n",
      "  Attempting uninstall: typing_extensions\n",
      "    Found existing installation: typing_extensions 4.9.0\n",
      "    Uninstalling typing_extensions-4.9.0:\n",
      "      Successfully uninstalled typing_extensions-4.9.0\n",
      "\u001b[31mERROR: pip's dependency resolver does not currently take into account all the packages that are installed. This behaviour is the source of the following dependency conflicts.\n",
      "apache-beam 2.52.0 requires pyarrow<12.0.0,>=3.0.0, but you have pyarrow 13.0.0 which is incompatible.\n",
      "chromadb 0.3.26 requires tqdm>=4.65.0, but you have tqdm 4.64.1 which is incompatible.\n",
      "nemoguardrails 0.5.0 requires langchain==0.0.251, but you have langchain 0.0.339 which is incompatible.\n",
      "onnx 1.13.1 requires protobuf<4,>=3.20.2, but you have protobuf 4.25.1 which is incompatible.\n",
      "pydantic-core 2.14.5 requires typing-extensions!=4.7.0,>=4.6.0, but you have typing-extensions 4.5.0 which is incompatible.\n",
      "spacy-transformers 1.3.2 requires transformers<4.35.0,>=3.4.0, but you have transformers 4.35.2 which is incompatible.\n",
      "catapult 0.1.0 requires fiddler-client==1.8.0.dev2, but you have fiddler-client 2.2.0 which is incompatible.\n",
      "catapult 0.1.0 requires pandas==1.3.5, but you have pandas 1.5.3 which is incompatible.\n",
      "catapult 0.1.0 requires pyyaml==5.4.1, but you have pyyaml 6.0.1 which is incompatible.\u001b[0m\u001b[31m\n",
      "\u001b[0mSuccessfully installed typing_extensions-4.5.0\n"
     ]
    }
   ],
   "source": [
    "!pip install typing-inspect==0.8.0 typing_extensions==4.5.0"
   ]
  },
  {
   "cell_type": "code",
   "execution_count": 8,
   "id": "8aa534bf-907d-49bd-9d65-1c9151d28e8e",
   "metadata": {},
   "outputs": [
    {
     "name": "stdout",
     "output_type": "stream",
     "text": [
      "Requirement already satisfied: pydantic in /Users/danielbrock/opt/anaconda3/lib/python3.8/site-packages (1.9.0)\n",
      "Collecting pydantic\n",
      "  Downloading pydantic-2.5.2-py3-none-any.whl.metadata (65 kB)\n",
      "\u001b[2K     \u001b[90m━━━━━━━━━━━━━━━━━━━━━━━━━━━━━━━━━━━━━━━\u001b[0m \u001b[32m65.2/65.2 kB\u001b[0m \u001b[31m692.6 kB/s\u001b[0m eta \u001b[36m0:00:00\u001b[0m \u001b[36m0:00:01\u001b[0m\n",
      "\u001b[?25hRequirement already satisfied: annotated-types>=0.4.0 in /Users/danielbrock/opt/anaconda3/lib/python3.8/site-packages (from pydantic) (0.6.0)\n",
      "Collecting pydantic-core==2.14.5 (from pydantic)\n",
      "  Downloading pydantic_core-2.14.5-cp38-cp38-macosx_10_7_x86_64.whl.metadata (6.5 kB)\n",
      "Collecting typing-extensions>=4.6.1 (from pydantic)\n",
      "  Downloading typing_extensions-4.9.0-py3-none-any.whl.metadata (3.0 kB)\n",
      "Downloading pydantic-2.5.2-py3-none-any.whl (381 kB)\n",
      "\u001b[2K   \u001b[90m━━━━━━━━━━━━━━━━━━━━━━━━━━━━━━━━━━━━━━━━\u001b[0m \u001b[32m381.9/381.9 kB\u001b[0m \u001b[31m4.2 MB/s\u001b[0m eta \u001b[36m0:00:00\u001b[0m00:01\u001b[0m00:01\u001b[0m\n",
      "\u001b[?25hDownloading pydantic_core-2.14.5-cp38-cp38-macosx_10_7_x86_64.whl (1.9 MB)\n",
      "\u001b[2K   \u001b[90m━━━━━━━━━━━━━━━━━━━━━━━━━━━━━━━━━━━━━━━━\u001b[0m \u001b[32m1.9/1.9 MB\u001b[0m \u001b[31m6.8 MB/s\u001b[0m eta \u001b[36m0:00:00\u001b[0m00:01\u001b[0m00:01\u001b[0m\n",
      "\u001b[?25hDownloading typing_extensions-4.9.0-py3-none-any.whl (32 kB)\n",
      "\u001b[33mDEPRECATION: pyodbc 4.0.0-unsupported has a non-standard version number. pip 24.0 will enforce this behaviour change. A possible replacement is to upgrade to a newer version of pyodbc or contact the author to suggest that they release a version with a conforming version number. Discussion can be found at https://github.com/pypa/pip/issues/12063\u001b[0m\u001b[33m\n",
      "\u001b[0mInstalling collected packages: typing-extensions, pydantic-core, pydantic\n",
      "  Attempting uninstall: typing-extensions\n",
      "    Found existing installation: typing_extensions 4.5.0\n",
      "    Uninstalling typing_extensions-4.5.0:\n",
      "      Successfully uninstalled typing_extensions-4.5.0\n",
      "  Attempting uninstall: pydantic-core\n",
      "    Found existing installation: pydantic_core 2.14.3\n",
      "    Uninstalling pydantic_core-2.14.3:\n",
      "      Successfully uninstalled pydantic_core-2.14.3\n",
      "  Attempting uninstall: pydantic\n",
      "    Found existing installation: pydantic 1.9.0\n",
      "    Uninstalling pydantic-1.9.0:\n",
      "      Successfully uninstalled pydantic-1.9.0\n",
      "\u001b[31mERROR: pip's dependency resolver does not currently take into account all the packages that are installed. This behaviour is the source of the following dependency conflicts.\n",
      "apache-beam 2.52.0 requires pyarrow<12.0.0,>=3.0.0, but you have pyarrow 13.0.0 which is incompatible.\n",
      "chromadb 0.3.26 requires tqdm>=4.65.0, but you have tqdm 4.64.1 which is incompatible.\n",
      "datamodel-code-generator 0.12.3 requires pydantic[email]<2.0,>=1.5.1; python_version < \"3.10\", but you have pydantic 2.5.2 which is incompatible.\n",
      "fastapi 0.96.0 requires pydantic!=1.7,!=1.7.1,!=1.7.2,!=1.7.3,!=1.8,!=1.8.1,<2.0.0,>=1.6.2, but you have pydantic 2.5.2 which is incompatible.\n",
      "fiddler-client 2.2.0 requires pydantic==1.9.0, but you have pydantic 2.5.2 which is incompatible.\n",
      "nemoguardrails 0.5.0 requires langchain==0.0.251, but you have langchain 0.0.339 which is incompatible.\n",
      "nemoguardrails 0.5.0 requires pydantic~=1.10.6, but you have pydantic 2.5.2 which is incompatible.\n",
      "nemoguardrails 0.5.0 requires typing-extensions==4.5.0, but you have typing-extensions 4.9.0 which is incompatible.\n",
      "onnx 1.13.1 requires protobuf<4,>=3.20.2, but you have protobuf 4.25.1 which is incompatible.\n",
      "spacy-transformers 1.3.2 requires transformers<4.35.0,>=3.4.0, but you have transformers 4.35.2 which is incompatible.\n",
      "catapult 0.1.0 requires fiddler-client==1.8.0.dev2, but you have fiddler-client 2.2.0 which is incompatible.\n",
      "catapult 0.1.0 requires pandas==1.3.5, but you have pandas 1.5.3 which is incompatible.\n",
      "catapult 0.1.0 requires pyyaml==5.4.1, but you have pyyaml 6.0.1 which is incompatible.\u001b[0m\u001b[31m\n",
      "\u001b[0mSuccessfully installed pydantic-2.5.2 pydantic-core-2.14.5 typing-extensions-4.9.0\n",
      "Note: you may need to restart the kernel to use updated packages.\n"
     ]
    }
   ],
   "source": [
    "pip install pydantic -U"
   ]
  },
  {
   "cell_type": "code",
   "execution_count": 9,
   "id": "0b750d1d-5d07-41b0-87f8-ce4b4f4460dc",
   "metadata": {},
   "outputs": [
    {
     "name": "stdout",
     "output_type": "stream",
     "text": [
      "Collecting pydantic==1.10.11\n",
      "  Using cached pydantic-1.10.11-cp38-cp38-macosx_10_9_x86_64.whl.metadata (148 kB)\n",
      "Requirement already satisfied: typing-extensions>=4.2.0 in /Users/danielbrock/opt/anaconda3/lib/python3.8/site-packages (from pydantic==1.10.11) (4.9.0)\n",
      "Using cached pydantic-1.10.11-cp38-cp38-macosx_10_9_x86_64.whl (2.9 MB)\n",
      "\u001b[33mDEPRECATION: pyodbc 4.0.0-unsupported has a non-standard version number. pip 24.0 will enforce this behaviour change. A possible replacement is to upgrade to a newer version of pyodbc or contact the author to suggest that they release a version with a conforming version number. Discussion can be found at https://github.com/pypa/pip/issues/12063\u001b[0m\u001b[33m\n",
      "\u001b[0mInstalling collected packages: pydantic\n",
      "  Attempting uninstall: pydantic\n",
      "    Found existing installation: pydantic 2.5.2\n",
      "    Uninstalling pydantic-2.5.2:\n",
      "      Successfully uninstalled pydantic-2.5.2\n",
      "\u001b[31mERROR: pip's dependency resolver does not currently take into account all the packages that are installed. This behaviour is the source of the following dependency conflicts.\n",
      "chromadb 0.3.26 requires tqdm>=4.65.0, but you have tqdm 4.64.1 which is incompatible.\n",
      "fiddler-client 2.2.0 requires pydantic==1.9.0, but you have pydantic 1.10.11 which is incompatible.\n",
      "nemoguardrails 0.5.0 requires langchain==0.0.251, but you have langchain 0.0.339 which is incompatible.\n",
      "nemoguardrails 0.5.0 requires typing-extensions==4.5.0, but you have typing-extensions 4.9.0 which is incompatible.\n",
      "spacy-transformers 1.3.2 requires transformers<4.35.0,>=3.4.0, but you have transformers 4.35.2 which is incompatible.\n",
      "catapult 0.1.0 requires fiddler-client==1.8.0.dev2, but you have fiddler-client 2.2.0 which is incompatible.\n",
      "catapult 0.1.0 requires pandas==1.3.5, but you have pandas 1.5.3 which is incompatible.\n",
      "catapult 0.1.0 requires pyyaml==5.4.1, but you have pyyaml 6.0.1 which is incompatible.\u001b[0m\u001b[31m\n",
      "\u001b[0mSuccessfully installed pydantic-1.10.11\n",
      "Note: you may need to restart the kernel to use updated packages.\n"
     ]
    }
   ],
   "source": [
    "pip install pydantic==1.10.11"
   ]
  },
  {
   "cell_type": "code",
   "execution_count": 10,
   "id": "42f15e46-fc23-4818-a8c0-3cfddc4a383a",
   "metadata": {},
   "outputs": [
    {
     "name": "stdout",
     "output_type": "stream",
     "text": [
      "Requirement already satisfied: flask-sqlalchemy in /Users/danielbrock/opt/anaconda3/lib/python3.8/site-packages (3.1.1)\n",
      "Requirement already satisfied: flask>=2.2.5 in /Users/danielbrock/opt/anaconda3/lib/python3.8/site-packages (from flask-sqlalchemy) (3.0.0)\n",
      "Requirement already satisfied: sqlalchemy>=2.0.16 in /Users/danielbrock/opt/anaconda3/lib/python3.8/site-packages (from flask-sqlalchemy) (2.0.22)\n",
      "Requirement already satisfied: Werkzeug>=3.0.0 in /Users/danielbrock/opt/anaconda3/lib/python3.8/site-packages (from flask>=2.2.5->flask-sqlalchemy) (3.0.0)\n",
      "Requirement already satisfied: Jinja2>=3.1.2 in /Users/danielbrock/opt/anaconda3/lib/python3.8/site-packages (from flask>=2.2.5->flask-sqlalchemy) (3.1.2)\n",
      "Requirement already satisfied: itsdangerous>=2.1.2 in /Users/danielbrock/opt/anaconda3/lib/python3.8/site-packages (from flask>=2.2.5->flask-sqlalchemy) (2.1.2)\n",
      "Requirement already satisfied: click>=8.1.3 in /Users/danielbrock/opt/anaconda3/lib/python3.8/site-packages (from flask>=2.2.5->flask-sqlalchemy) (8.1.3)\n",
      "Requirement already satisfied: blinker>=1.6.2 in /Users/danielbrock/opt/anaconda3/lib/python3.8/site-packages (from flask>=2.2.5->flask-sqlalchemy) (1.6.3)\n",
      "Requirement already satisfied: importlib-metadata>=3.6.0 in /Users/danielbrock/opt/anaconda3/lib/python3.8/site-packages (from flask>=2.2.5->flask-sqlalchemy) (5.0.0)\n",
      "Requirement already satisfied: typing-extensions>=4.2.0 in /Users/danielbrock/opt/anaconda3/lib/python3.8/site-packages (from sqlalchemy>=2.0.16->flask-sqlalchemy) (4.8.0)\n",
      "Requirement already satisfied: greenlet!=0.4.17 in /Users/danielbrock/opt/anaconda3/lib/python3.8/site-packages (from sqlalchemy>=2.0.16->flask-sqlalchemy) (1.0.0)\n",
      "Requirement already satisfied: zipp>=0.5 in /Users/danielbrock/opt/anaconda3/lib/python3.8/site-packages (from importlib-metadata>=3.6.0->flask>=2.2.5->flask-sqlalchemy) (3.4.1)\n",
      "Requirement already satisfied: MarkupSafe>=2.0 in /Users/danielbrock/opt/anaconda3/lib/python3.8/site-packages (from Jinja2>=3.1.2->flask>=2.2.5->flask-sqlalchemy) (2.1.2)\n",
      "\u001b[33mDEPRECATION: pyodbc 4.0.0-unsupported has a non-standard version number. pip 23.3 will enforce this behaviour change. A possible replacement is to upgrade to a newer version of pyodbc or contact the author to suggest that they release a version with a conforming version number. Discussion can be found at https://github.com/pypa/pip/issues/12063\u001b[0m\u001b[33m\n",
      "\u001b[0m\n",
      "\u001b[1m[\u001b[0m\u001b[34;49mnotice\u001b[0m\u001b[1;39;49m]\u001b[0m\u001b[39;49m A new release of pip is available: \u001b[0m\u001b[31;49m23.2.1\u001b[0m\u001b[39;49m -> \u001b[0m\u001b[32;49m23.3.1\u001b[0m\n",
      "\u001b[1m[\u001b[0m\u001b[34;49mnotice\u001b[0m\u001b[1;39;49m]\u001b[0m\u001b[39;49m To update, run: \u001b[0m\u001b[32;49mpip install --upgrade pip\u001b[0m\n"
     ]
    }
   ],
   "source": [
    "!pip install flask-sqlalchemy"
   ]
  },
  {
   "cell_type": "code",
   "execution_count": null,
   "id": "cc73d932-3afe-4477-b161-8aeafd89611c",
   "metadata": {},
   "outputs": [],
   "source": [
    "!pip install unstructured"
   ]
  },
  {
   "cell_type": "code",
   "execution_count": 16,
   "id": "e378b1f5-7d4a-4002-b16e-1515b12bda1a",
   "metadata": {},
   "outputs": [
    {
     "name": "stdout",
     "output_type": "stream",
     "text": [
      "\u001b[33mDEPRECATION: pyodbc 4.0.0-unsupported has a non-standard version number. pip 23.3 will enforce this behaviour change. A possible replacement is to upgrade to a newer version of pyodbc or contact the author to suggest that they release a version with a conforming version number. Discussion can be found at https://github.com/pypa/pip/issues/12063\u001b[0m\u001b[33m\n",
      "\u001b[0m\n",
      "\u001b[1m[\u001b[0m\u001b[34;49mnotice\u001b[0m\u001b[1;39;49m]\u001b[0m\u001b[39;49m A new release of pip is available: \u001b[0m\u001b[31;49m23.2.1\u001b[0m\u001b[39;49m -> \u001b[0m\u001b[32;49m23.3\u001b[0m\n",
      "\u001b[1m[\u001b[0m\u001b[34;49mnotice\u001b[0m\u001b[1;39;49m]\u001b[0m\u001b[39;49m To update, run: \u001b[0m\u001b[32;49mpip install --upgrade pip\u001b[0m\n"
     ]
    }
   ],
   "source": [
    "! pip install -q --progress-bar off \\\n",
    "    \"git+https://github.com/hemidactylus/langchain@updated-full-preview--lab#egg=langchain&subdirectory=libs/langchain\" \\\n",
    "    \"cassio>=0.1.1\" \\\n",
    "    \"google-cloud-aiplatform>=1.25.0\" \\\n",
    "    \"jupyter>=1.0.0\" \\\n",
    "    \"openai==0.27.7\" \\\n",
    "    \"python-dotenv==1.0.0\" \\\n",
    "    \"tensorflow-cpu==2.12.0\" \\\n",
    "    \"tiktoken==0.4.0\" \\\n",
    "    \"transformers>=4.29.2\" \n",
    "exit()"
   ]
  },
  {
   "cell_type": "code",
   "execution_count": 1,
   "id": "3c4096ec-29eb-4cfa-8346-7b283cbd23b8",
   "metadata": {},
   "outputs": [],
   "source": [
    "import cassandra\n",
    "from cassandra.cluster import Cluster\n",
    "from cassandra.auth import PlainTextAuthProvider\n",
    "import json\n",
    "import os\n",
    "import pandas as pd\n",
    "import fiddler as fdl"
   ]
  },
  {
   "cell_type": "code",
   "execution_count": 2,
   "id": "26c65fe4-ee0c-4262-969a-d4e6f97ebc48",
   "metadata": {},
   "outputs": [
    {
     "data": {
      "text/plain": [
       "'2.2.0'"
      ]
     },
     "execution_count": 2,
     "metadata": {},
     "output_type": "execute_result"
    }
   ],
   "source": [
    "fdl.__version__"
   ]
  },
  {
   "cell_type": "code",
   "execution_count": 3,
   "id": "83c37535-3311-495a-921e-4d175f6eaf4d",
   "metadata": {},
   "outputs": [
    {
     "data": {
      "text/plain": [
       "'3.28.0'"
      ]
     },
     "execution_count": 3,
     "metadata": {},
     "output_type": "execute_result"
    }
   ],
   "source": [
    "cassandra.__version__"
   ]
  },
  {
   "cell_type": "code",
   "execution_count": 4,
   "id": "b64b3d41-2153-45c4-b37b-8567ca48c52e",
   "metadata": {},
   "outputs": [],
   "source": [
    "# This secure connect bundle is autogenerated when you donwload your SCB, \n",
    "# if yours is different update the file name below\n",
    "cloud_config= {\n",
    "  'secure_connect_bundle': 'datastax_auth/secure-connect-fiddlerai.zip'\n",
    "}\n",
    "\n",
    "ASTRA_DB_APPLICATION_TOKEN = os.environ.get('ASTRA_DB_APPLICATION_TOKEN')\n",
    "#print(\"TOKEN: \" + ASTRA_DB_APPLICATION_TOKEN)\n",
    "\n",
    "# This token json file is autogenerated when you donwload your token, \n",
    "# if yours is different update the file name below\n",
    "#with open(\"datastax_auth/danny@fiddler.ai-token.json\") as f:\n",
    "#    secrets = json.load(f)\n",
    "\n",
    "#CLIENT_ID = secrets[\"clientId\"]\n",
    "#CLIENT_SECRET = secrets[\"secret\"]\n",
    "\n",
    "auth_provider=PlainTextAuthProvider(\"token\", ASTRA_DB_APPLICATION_TOKEN)\n",
    "cluster = Cluster(cloud=cloud_config, auth_provider=auth_provider)\n",
    "\n",
    "#auth_provider = PlainTextAuthProvider(CLIENT_ID, CLIENT_SECRET)\n",
    "#cluster = Cluster(cloud=cloud_config, auth_provider=auth_provider)\n",
    "session = cluster.connect()"
   ]
  },
  {
   "cell_type": "code",
   "execution_count": 5,
   "id": "5d5beb68-14d7-4b67-bd02-44d4dea4d5d2",
   "metadata": {},
   "outputs": [],
   "source": [
    "session.set_keyspace('fiddlerai')"
   ]
  },
  {
   "cell_type": "code",
   "execution_count": 6,
   "id": "5590ec5f-b046-4fba-8849-6bb97df81472",
   "metadata": {},
   "outputs": [],
   "source": [
    "# Set your secret(s) for LLM access:\n",
    "llmProvider = 'OpenAI'  # 'GCP_VertexAI', 'Azure_OpenAI'"
   ]
  },
  {
   "cell_type": "code",
   "execution_count": 7,
   "id": "a9041101-86be-41ec-9b20-db246fbbce87",
   "metadata": {},
   "outputs": [],
   "source": [
    "from langchain.indexes import VectorstoreIndexCreator\n",
    "from langchain.text_splitter import CharacterTextSplitter, RecursiveCharacterTextSplitter\n",
    "from langchain.docstore.document import Document\n",
    "from langchain.document_loaders import TextLoader, DirectoryLoader, DataFrameLoader"
   ]
  },
  {
   "cell_type": "code",
   "execution_count": 8,
   "id": "706025b0-e3b9-4f95-8f03-40591d854858",
   "metadata": {},
   "outputs": [],
   "source": [
    "from langchain.vectorstores.cassandra import Cassandra"
   ]
  },
  {
   "cell_type": "code",
   "execution_count": 9,
   "id": "ef53f093-39d2-4a08-84bd-a6aa1b6440c8",
   "metadata": {},
   "outputs": [],
   "source": [
    "import os\n",
    "import openai"
   ]
  },
  {
   "cell_type": "code",
   "execution_count": 10,
   "id": "97ed5b8a-e8e0-48cf-aa49-eed9ec6c1bb6",
   "metadata": {},
   "outputs": [
    {
     "name": "stdout",
     "output_type": "stream",
     "text": [
      "LLM+embeddings from OpenAI\n"
     ]
    }
   ],
   "source": [
    "os.environ['OPENAI_API_TYPE'] = 'open_ai'\n",
    "from langchain.llms import OpenAI\n",
    "from langchain.embeddings import OpenAIEmbeddings\n",
    "llm = OpenAI(temperature=0)\n",
    "myEmbedding = OpenAIEmbeddings()\n",
    "print('LLM+embeddings from OpenAI')"
   ]
  },
  {
   "cell_type": "code",
   "execution_count": 11,
   "id": "f323bb1d-8bc6-4cd9-a39c-372cfd8c7ac0",
   "metadata": {},
   "outputs": [],
   "source": [
    "table_name = 'fiddler_doc_snippets_' + llmProvider\n",
    "\n",
    "index_creator = VectorstoreIndexCreator(\n",
    "    vectorstore_cls=Cassandra,\n",
    "    embedding=myEmbedding,\n",
    "    text_splitter=CharacterTextSplitter(\n",
    "        chunk_size=5000,\n",
    "        chunk_overlap=0,\n",
    "    ),\n",
    "    vectorstore_kwargs={\n",
    "        'session': session,\n",
    "        'keyspace': 'fiddlerai',\n",
    "        'table_name': table_name,\n",
    "    },\n",
    ")"
   ]
  },
  {
   "cell_type": "code",
   "execution_count": 12,
   "id": "1f1bc517-6674-4c23-a3d9-c43df13e1f87",
   "metadata": {},
   "outputs": [
    {
     "data": {
      "text/html": [
       "<div>\n",
       "<style scoped>\n",
       "    .dataframe tbody tr th:only-of-type {\n",
       "        vertical-align: middle;\n",
       "    }\n",
       "\n",
       "    .dataframe tbody tr th {\n",
       "        vertical-align: top;\n",
       "    }\n",
       "\n",
       "    .dataframe thead th {\n",
       "        text-align: right;\n",
       "    }\n",
       "</style>\n",
       "<table border=\"1\" class=\"dataframe\">\n",
       "  <thead>\n",
       "    <tr style=\"text-align: right;\">\n",
       "      <th></th>\n",
       "      <th>text</th>\n",
       "    </tr>\n",
       "  </thead>\n",
       "  <tbody>\n",
       "    <tr>\n",
       "      <th>0</th>\n",
       "      <td>---\\ntitle: \"fdl.FiddlerApi\"\\nslug: \"client-se...</td>\n",
       "    </tr>\n",
       "    <tr>\n",
       "      <th>1</th>\n",
       "      <td>slug: \"client-setup\" 58'\\n\\nclient = fdl.Fiddl...</td>\n",
       "    </tr>\n",
       "    <tr>\n",
       "      <th>2</th>\n",
       "      <td>---\\ntitle: \"Customer Churn Prediction\"\\nslug:...</td>\n",
       "    </tr>\n",
       "    <tr>\n",
       "      <th>3</th>\n",
       "      <td>slug: \"customer-churn-prediction\" images\": [\\n...</td>\n",
       "    </tr>\n",
       "    <tr>\n",
       "      <th>4</th>\n",
       "      <td>slug: \"customer-churn-prediction\" f7d1-Churn-i...</td>\n",
       "    </tr>\n",
       "    <tr>\n",
       "      <th>...</th>\n",
       "      <td>...</td>\n",
       "    </tr>\n",
       "    <tr>\n",
       "      <th>377</th>\n",
       "      <td>Currently, only the following fields in [fdl.M...</td>\n",
       "    </tr>\n",
       "    <tr>\n",
       "      <th>378</th>\n",
       "      <td>AI has been in the limelight thanks to ‌recent...</td>\n",
       "    </tr>\n",
       "    <tr>\n",
       "      <th>379</th>\n",
       "      <td>LLM means large language model.  A large langu...</td>\n",
       "    </tr>\n",
       "    <tr>\n",
       "      <th>380</th>\n",
       "      <td>The term generative AI, or GenAI, also is clos...</td>\n",
       "    </tr>\n",
       "    <tr>\n",
       "      <th>381</th>\n",
       "      <td>FM, or FMs, means Foundation Models.  Foundati...</td>\n",
       "    </tr>\n",
       "  </tbody>\n",
       "</table>\n",
       "<p>382 rows × 1 columns</p>\n",
       "</div>"
      ],
      "text/plain": [
       "                                                  text\n",
       "0    ---\\ntitle: \"fdl.FiddlerApi\"\\nslug: \"client-se...\n",
       "1    slug: \"client-setup\" 58'\\n\\nclient = fdl.Fiddl...\n",
       "2    ---\\ntitle: \"Customer Churn Prediction\"\\nslug:...\n",
       "3    slug: \"customer-churn-prediction\" images\": [\\n...\n",
       "4    slug: \"customer-churn-prediction\" f7d1-Churn-i...\n",
       "..                                                 ...\n",
       "377  Currently, only the following fields in [fdl.M...\n",
       "378  AI has been in the limelight thanks to ‌recent...\n",
       "379  LLM means large language model.  A large langu...\n",
       "380  The term generative AI, or GenAI, also is clos...\n",
       "381  FM, or FMs, means Foundation Models.  Foundati...\n",
       "\n",
       "[382 rows x 1 columns]"
      ]
     },
     "execution_count": 12,
     "metadata": {},
     "output_type": "execute_result"
    }
   ],
   "source": [
    "df = pd.read_csv('documentation_data/vector_index_feed_23.6.csv')\n",
    "df"
   ]
  },
  {
   "cell_type": "code",
   "execution_count": 13,
   "id": "76211ae4-6cc1-4b5e-aa92-cca6c7338330",
   "metadata": {},
   "outputs": [],
   "source": [
    "loader = DataFrameLoader(df, page_content_column=\"text\")"
   ]
  },
  {
   "cell_type": "code",
   "execution_count": 14,
   "id": "67c383eb-dd61-41d4-a798-9589d78acb9d",
   "metadata": {},
   "outputs": [
    {
     "data": {
      "text/plain": [
       "382"
      ]
     },
     "execution_count": 14,
     "metadata": {},
     "output_type": "execute_result"
    }
   ],
   "source": [
    "len(loader.load())"
   ]
  },
  {
   "cell_type": "code",
   "execution_count": 15,
   "id": "4453446d-71b6-4da5-915e-f62d5177af9a",
   "metadata": {},
   "outputs": [
    {
     "data": {
      "text/plain": [
       "VectorStoreIndexWrapper(vectorstore=<langchain.vectorstores.cassandra.Cassandra object at 0x7fed43f4eee0>)"
      ]
     },
     "execution_count": 15,
     "metadata": {},
     "output_type": "execute_result"
    }
   ],
   "source": [
    "index = index_creator.from_loaders([loader])\n",
    "index"
   ]
  },
  {
   "cell_type": "code",
   "execution_count": 45,
   "id": "e0a75294-e010-4999-9385-8924d975db86",
   "metadata": {},
   "outputs": [
    {
     "name": "stdout",
     "output_type": "stream",
     "text": [
      "\n",
      "Row 0:\n",
      "    row_id:            992f28c79fa541a6a0a58b4eafc86921\n",
      "    vector:            [-0.0026160315610468388, -0.026444554328918457, 0.01814904808998 ...\n",
      "    body_blob:         ---\n",
      "title: \"client.delete_webhook\"\n",
      "slug: \"clientdelete_webhook\"\n",
      " ...\n",
      "    metadata_s:        None\n",
      "\n",
      "Row 1:\n",
      "    row_id:            d03e2f3fe2514a4c8a52229fb6b13f48\n",
      "    vector:            [-0.02673957124352455, 0.006959426216781139, -0.0084350444376468 ...\n",
      "    body_blob:         slug: \"publishing-events-with-complex-data-formats\" ,\n",
      "           ...\n",
      "    metadata_s:        None\n",
      "\n",
      "Row 2:\n",
      "    row_id:            3ea3314d6ebd4395ab423dab14f9b6a2\n",
      "    vector:            [-0.015294374898076057, 0.006210180465131998, -0.007820494472980 ...\n",
      "    body_blob:         ---\n",
      "title: \"Class-Imbalanced Data\"\n",
      "slug: \"class-imbalanced-data\" ...\n",
      "    metadata_s:        None\n",
      "\n",
      "Row 3:\n",
      "    row_id:            08798909cdb94a6992590d78eda3ab0f\n",
      "    vector:            [-0.031133130192756653, -0.007197968661785126, 0.010354483500123 ...\n",
      "    body_blob:         slug: \"data-drift\" e-Monitor_DriftAnaly.png \"Monitor_DriftAnaly. ...\n",
      "    metadata_s:        None\n",
      "\n",
      "Row 4:\n",
      "    row_id:            8fd0b121342142a397bd602bd8a78da9\n",
      "    vector:            [0.008876001462340355, 0.027711128816008568, -0.0063686366192996 ...\n",
      "    body_blob:         ---\n",
      "title: \"Useful Queries for Root Cause Analysis\"\n",
      "slug: \"usefu ...\n",
      "    metadata_s:        None\n",
      "\n",
      "Row 5:\n",
      "    row_id:            3633d717b0a14f2fb63e0b5c7cc6f63a\n",
      "    vector:            [-0.01626657135784626, 0.003664603689685464, -0.0120611712336540 ...\n",
      "    body_blob:         ---\n",
      "title: \"Alerts with Fiddler Client\"\n",
      "slug: \"alerts-client\"\n",
      "hi ...\n",
      "    metadata_s:        None\n",
      "\n",
      "Row 6:\n",
      "    row_id:            e70695cd73dc4af98a0703148223c57a\n",
      "    vector:            [-0.018854763358831406, 0.011061939410865307, 0.0044233417138457 ...\n",
      "    body_blob:         ---\n",
      "title: \"Airflow Integration\"\n",
      "slug: \"airflow-integration\"\n",
      "hid ...\n",
      "    metadata_s:        None\n",
      "\n",
      "Row 7:\n",
      "    row_id:            bee82407920848c08e70f544bcf3c598\n",
      "    vector:            [-0.018145831301808357, -0.01386446226388216, -0.004243449307978 ...\n",
      "    body_blob:         slug: \"streaming-live-events\"  called in real-time right after y ...\n",
      "    metadata_s:        None\n",
      "\n",
      "Row 8:\n",
      "    row_id:            ad9afdaa2d254360851f874227e26353\n",
      "    vector:            [-0.009160985238850117, 0.02055235393345356, 0.00094243895728141 ...\n",
      "    body_blob:         ---\n",
      "title: \"Evaluation\"\n",
      "slug: \"evaluation-ui\"\n",
      "excerpt: \"UI Guide ...\n",
      "    metadata_s:        None\n",
      "\n",
      "Row 9:\n",
      "    row_id:            ae9c9ab2d2bd44f2aae8c98ed1fac682\n",
      "    vector:            [-0.002152826404199004, 0.017917070537805557, 0.0225282870233058 ...\n",
      "    body_blob:         slug: \"point-explainability\"  _The first number_ is the **attrib ...\n",
      "    metadata_s:        None\n",
      "\n",
      "Row 10:\n",
      "    row_id:            a57f2ccd82e7427eb43f3b2516c922d9\n",
      "    vector:            [0.00048366287956014276, 0.002907953690737486, 0.002865264890715 ...\n",
      "    body_blob:         slug: \"bigquery-integration\"  query which will be used to import ...\n",
      "    metadata_s:        None\n",
      "\n",
      "Row 11:\n",
      "    row_id:            359d246b3af0435685d67d6e3d992a02\n",
      "    vector:            [0.009979122318327427, 0.010988397523760796, 0.01943689770996570 ...\n",
      "    body_blob:         ---\n",
      "title: \"client.add_monitoring_config\"\n",
      "slug: \"clientadd_monit ...\n",
      "    metadata_s:        None\n",
      "\n",
      "Row 12:\n",
      "    row_id:            5d81a59427db4011923851e2dd14f401\n",
      "    vector:            [-0.007216186262667179, 0.0025671618059277534, -0.00288893631659 ...\n",
      "    body_blob:         ---\n",
      "title: \"client.publish_events_batch_schema\"\n",
      "slug: \"clientpub ...\n",
      "    metadata_s:        None\n",
      "\n",
      "Row 13:\n",
      "    row_id:            73e599173ba14472b84c4e4749837c56\n",
      "    vector:            [0.009538918733596802, -0.004262725356966257, -0.004988587461411 ...\n",
      "    body_blob:         ---\n",
      "title: \"client.add_model_artifact\"\n",
      "slug: \"clientadd_model_ar ...\n",
      "    metadata_s:        None\n",
      "\n",
      "Row 14:\n",
      "    row_id:            b79677d0be3b4d4eb594ec366685296b\n",
      "    vector:            [-0.0022432487457990646, 0.016934363171458244, -0.00026330022956 ...\n",
      "    body_blob:         ---\n",
      "title: \"Uploading a TensorFlow HDF5 Model Artifact\"\n",
      "slug: \"t ...\n",
      "    metadata_s:        None\n",
      "\n",
      "Row 15:\n",
      "    row_id:            ba1f4ade5723426584078cb4e040f6cf\n",
      "    vector:            [-0.0073030306957662106, 0.006328308954834938, -0.00933370180428 ...\n",
      "    body_blob:         slug: \"product-tour\"  Atheism Classifier | Text        | scikit- ...\n",
      "    metadata_s:        None\n",
      "\n",
      "Row 16:\n",
      "    row_id:            308aa780a77e43e9a15d4f3f164bd756\n",
      "    vector:            [0.0012045818148180842, 0.013162259943783283, -0.008903881534934 ...\n",
      "    body_blob:         ---\n",
      "title: \"Uploading an XGBoost Model Artifact\"\n",
      "slug: \"xgboost\" ...\n",
      "    metadata_s:        None\n",
      "\n",
      "Row 17:\n",
      "    row_id:            ca6c9424be3d4b5b8a2c40ecbfdc0ccd\n",
      "    vector:            [0.011801902204751968, 0.005624559707939625, 0.01231322530657053 ...\n",
      "    body_blob:         ---\n",
      "title: \"Uploading a Baseline Dataset\"\n",
      "slug: \"uploading-a-bas ...\n",
      "    metadata_s:        None\n",
      "\n",
      "Row 18:\n",
      "    row_id:            6199bdb12de74359ac1771dacd735fc8\n",
      "    vector:            [0.0010687060421332717, -0.018718333914875984, -0.01076517254114 ...\n",
      "    body_blob:         ---\n",
      "title: \"client.add_baseline\"\n",
      "slug: \"add_baseline\"\n",
      "hidden: fa ...\n",
      "    metadata_s:        None\n",
      "\n",
      "Row 19:\n",
      "    row_id:            96f3e8055e8f4767b286def7be6b181f\n",
      "    vector:            [-0.0052502453327178955, 0.012273389846086502, 0.009884425438940 ...\n",
      "    body_blob:         ---\n",
      "title: \"About Models\"\n",
      "slug: \"about-models\"\n",
      "hidden: false\n",
      "cre ...\n",
      "    metadata_s:        None\n",
      "\n",
      "Row 20:\n",
      "    row_id:            21e98b375ae142639d1783a979f2b43d\n",
      "    vector:            [-0.038268376141786575, -0.010728971101343632, 0.035768136382102 ...\n",
      "    body_blob:         slug: \"clientget_feature_impact\" | :---------- | :-------------- ...\n",
      "    metadata_s:        None\n",
      "\n",
      "Row 21:\n",
      "    row_id:            e7987a02fa104880a21da6796c050ac2\n",
      "    vector:            [0.0056936307810246944, -0.01645718142390251, 0.0009902758756652 ...\n",
      "    body_blob:         ---\n",
      "title: \"Data Integrity\"\n",
      "slug: \"data-integrity\"\n",
      "hidden: false ...\n",
      "    metadata_s:        None\n",
      "\n",
      "Row 22:\n",
      "    row_id:            db99dcbbc3c447598d3c4df44ec61806\n",
      "    vector:            [-0.006864239927381277, 0.0013933066511526704, 0.006448011379688 ...\n",
      "    body_blob:         ---\n",
      "title: \"Performance\"\n",
      "slug: \"performance\"\n",
      "hidden: false\n",
      "creat ...\n",
      "    metadata_s:        None\n",
      "\n",
      "Row 23:\n",
      "    row_id:            46142290a0724de4b17275020d617269\n",
      "    vector:            [-0.004742957651615143, 0.0016190074384212494, 0.001770209171809 ...\n",
      "    body_blob:         ---\n",
      "title: \"Release 23.1 Notes\"\n",
      "slug: \"2023-3-31\"\n",
      "createdAt: \"20 ...\n",
      "    metadata_s:        None\n",
      "\n",
      "Row 24:\n",
      "    row_id:            11515105a4d54a91b7cbfada9a64cfaa\n",
      "    vector:            [-0.004388643894344568, 0.021830327808856964, -0.007606042083352 ...\n",
      "    body_blob:         ---\n",
      "title: \"Welcome to Fiddler's Documentation!\"\n",
      "slug: \"welcome\" ...\n",
      "    metadata_s:        None\n",
      "\n",
      "Row 25:\n",
      "    row_id:            7fcba2a848d944a291a4ee5ed65eb08c\n",
      "    vector:            [-0.00013034875155426562, 9.522483014734462e-05, 0.0132306767627 ...\n",
      "    body_blob:         slug: \"fdldeploymentparams\" 2000               | 1200            ...\n",
      "    metadata_s:        None\n",
      "\n",
      "Row 26:\n",
      "    row_id:            07211178cb1a4c7b8c2b390a50210f28\n",
      "    vector:            [-0.0212034173309803, 0.00927200261503458, 0.018716508522629738, ...\n",
      "    body_blob:         slug: \"point-explainability-platform\"  distribute the total payo ...\n",
      "    metadata_s:        None\n",
      "\n",
      "Row 27:\n",
      "    row_id:            ee3ac8ed2be94c17969b5d46de8d2c5f\n",
      "    vector:            [-0.0037976650055497885, 0.009823108091950417, -0.01584506966173 ...\n",
      "    body_blob:         ---\n",
      "title: \"Publishing Production Data\"\n",
      "slug: \"publishing-produc ...\n",
      "    metadata_s:        None\n",
      "\n",
      "Row 28:\n",
      "    row_id:            bab7435ea7874aef8b833b17fb790523\n",
      "    vector:            [-0.005569756496697664, -0.03599022701382637, 0.0115356743335723 ...\n",
      "    body_blob:         ---\n",
      "title: \"client.get_webhooks\"\n",
      "slug: \"clientget_webhooks\"\n",
      "exce ...\n",
      "    metadata_s:        None\n",
      "\n",
      "Row 29:\n",
      "    row_id:            598bfa4fb92c4f5c9b733d323a61575e\n",
      "    vector:            [-0.021884338930249214, 0.0028968648985028267, -0.01644447818398 ...\n",
      "    body_blob:         slug: \"integration-with-s3\" ,\n",
      "    Filename=OUTPUT_FILENAME\n",
      ")\n",
      "``` ...\n",
      "    metadata_s:        None\n",
      "\n",
      "...\n"
     ]
    }
   ],
   "source": [
    "cqlSelect = f'SELECT * FROM fiddlerai.{table_name} LIMIT 30;'  # (Not a production-optimized query ...)\n",
    "rows = session.execute(cqlSelect)\n",
    "for row_i, row in enumerate(rows):\n",
    "    print(f'\\nRow {row_i}:')\n",
    "    # depending on the cassIO version, the underlying Cassandra table can have different structure ...\n",
    "    try:\n",
    "        # you are using the new cassIO 0.1.0+ : congratulations :)\n",
    "        print(f'    row_id:            {row.row_id}')\n",
    "        print(f'    vector:            {str(row.vector)[:64]} ...')\n",
    "        print(f'    body_blob:         {row.body_blob[:64]} ...')\n",
    "        print(f'    metadata_s:        {row.metadata_s}')        \n",
    "    except AttributeError:\n",
    "        # Please upgrade your cassIO to the latest version ...\n",
    "        print(f'    document_id:      {row.document_id}')\n",
    "        print(f'    embedding_vector: {str(row.embedding_vector)[:64]} ...')\n",
    "        print(f'    document:         {row.document[:64]} ...')\n",
    "        print(f'    metadata_blob:    {row.metadata_blob}')\n",
    "\n",
    "print('\\n...')"
   ]
  },
  {
   "cell_type": "code",
   "execution_count": null,
   "id": "18f9e701-49fa-49cd-9e30-3ab1bd2cd636",
   "metadata": {},
   "outputs": [],
   "source": [
    "query = \"What is Fiddler?\"\n",
    "index.query(query, llm=llm)"
   ]
  },
  {
   "cell_type": "code",
   "execution_count": null,
   "id": "ebbd67ae-2260-4566-a23e-f981f69cc1fd",
   "metadata": {},
   "outputs": [],
   "source": [
    "createTableSQL = \"\"\"CREATE TABLE fiddler_chatbot_history (\n",
    "    row_id text PRIMARY KEY,\n",
    "    response text,\n",
    "    response_vector vector<float, 1536>,\n",
    "    source_docs text,\n",
    "    source_docs_vector vector<float, 1536>,\n",
    "    question text,\n",
    "    question_vector vector<float, 1536>,\n",
    "    comment text,\n",
    "    feedback int,\n",
    "    metadata_s map<text, text>,\n",
    "    ts timestamp)\"\"\"\n",
    "# ) WITH additional_write_policy = '99p'\n",
    "#     AND bloom_filter_fp_chance = 0.01\n",
    "#     AND caching = {'keys': 'ALL', 'rows_per_partition': 'NONE'}\n",
    "#     AND comment = ''\n",
    "#     AND compaction = {'class': 'org.apache.cassandra.db.compaction.UnifiedCompactionStrategy'}\n",
    "#     AND compression = {'chunk_length_in_kb': '16', 'class': 'org.apache.cassandra.io.compress.LZ4Compressor'}\n",
    "#     AND crc_check_chance = 1.0\n",
    "#     AND default_time_to_live = 0\n",
    "#     AND gc_grace_seconds = 864000\n",
    "#     AND max_index_interval = 2048\n",
    "#     AND memtable_flush_period_in_ms = 0\n",
    "#     AND min_index_interval = 128\n",
    "#     AND read_repair = 'BLOCKING'\n",
    "#     AND speculative_retry = '99p';\"\"\""
   ]
  },
  {
   "cell_type": "code",
   "execution_count": null,
   "id": "a58a1bad-c048-40a9-b9b6-c070a28a4dbe",
   "metadata": {},
   "outputs": [],
   "source": [
    "session.execute(createTableSQL)"
   ]
  },
  {
   "cell_type": "code",
   "execution_count": null,
   "id": "c6c2668f-2d7a-454a-9024-8aefbe645ff3",
   "metadata": {},
   "outputs": [],
   "source": [
    "EMBEDDING_MODEL = \"text-embedding-ada-002\"\n",
    "response = openai.Embedding.create(model=EMBEDDING_MODEL, input='How are you doing')\n",
    "response"
   ]
  },
  {
   "cell_type": "code",
   "execution_count": null,
   "id": "081e831d-cbb6-4d50-af91-87ff6b853381",
   "metadata": {},
   "outputs": [],
   "source": []
  },
  {
   "cell_type": "code",
   "execution_count": null,
   "id": "081b3082-7539-4b3d-8beb-1f171345d87e",
   "metadata": {},
   "outputs": [],
   "source": [
    "def pandas_factory(colnames, rows):\n",
    "    return pd.DataFrame(rows, columns=colnames)\n",
    "\n",
    "session.row_factory = pandas_factory\n",
    "session.default_fetch_size = None"
   ]
  },
  {
   "cell_type": "code",
   "execution_count": null,
   "id": "6b4758a9-fa0e-494a-bda5-0868b2d0ea64",
   "metadata": {},
   "outputs": [],
   "source": [
    "rows = session.execute('SELECT * from squad')\n",
    "    \n",
    "df_baseline = rows._current_rows\n",
    "df_baseline"
   ]
  },
  {
   "cell_type": "code",
   "execution_count": null,
   "id": "fb7c4d5b-1cf4-49da-b9cd-b7d53eb8e64a",
   "metadata": {},
   "outputs": [],
   "source": [
    "column_types = df_baseline.dtypes\n",
    "\n",
    "print(column_types)"
   ]
  },
  {
   "cell_type": "code",
   "execution_count": null,
   "id": "517937fc-1fe1-49cd-b7c5-a3040d2dc9ad",
   "metadata": {},
   "outputs": [],
   "source": [
    "df_baseline['answers'] = df_baseline['answers'].apply(lambda x : str(x))"
   ]
  }
 ],
 "metadata": {
  "kernelspec": {
   "display_name": "Python 3",
   "language": "python",
   "name": "python3"
  },
  "language_info": {
   "codemirror_mode": {
    "name": "ipython",
    "version": 3
   },
   "file_extension": ".py",
   "mimetype": "text/x-python",
   "name": "python",
   "nbconvert_exporter": "python",
   "pygments_lexer": "ipython3",
   "version": "3.8.8"
  }
 },
 "nbformat": 4,
 "nbformat_minor": 5
}
